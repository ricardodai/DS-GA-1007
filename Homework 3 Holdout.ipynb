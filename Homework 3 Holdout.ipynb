{
 "cells": [
  {
   "cell_type": "markdown",
   "metadata": {},
   "source": [
    "# Introduction to Data Science\n",
    "## Homework 3"
   ]
  },
  {
   "cell_type": "markdown",
   "metadata": {},
   "source": [
    "Student Name: Yuqi Dai\n",
    "\n",
    "Student Netid: yd735\n",
    "***"
   ]
  },
  {
   "cell_type": "markdown",
   "metadata": {},
   "source": [
    "### Part 1 (5 Points)\n",
    "Assume that $X$ and $Y$ are discrete random variables. The formulas for Mutual Information, Entropy and Conditional Entropy are given by:\n",
    "\n",
    "$$\\text{Mutual Information} = \\sum_{y \\in Y} \\sum_{x \\in X} p(x, y) \\cdot log\\frac{p(x, y)}{p(x)p(y)}$$\n",
    "\n",
    "$$\\text{Entropy} = H(Y) = -\\sum_{y \\in Y} p(y) \\cdot log(p(y))$$\n",
    "\n",
    "$$\\text{Conditional Entropy} = H(Y \\mid X) = \\sum_{x \\in X} p(x) \\cdot H(Y \\mid X = x)$$\n",
    "\n",
    "Show mathematically that $\\text{Mutual Information} = \\text{Information Gain}$, where $\\text{Information Gain} = H(Y) – H(Y \\mid X)$. Give the derivation below (note, this can be done using Latek math notation, which renders nicely. See above. Feel free to do it by hand and submit an image of your proof)."
   ]
  },
  {
   "cell_type": "markdown",
   "metadata": {},
   "source": [
    "Place your answer here!\n",
    "\n",
    "$$\\text{Mutual Information} = \\sum_{y \\in Y} \\sum_{x \\in X} p(x, y) \\cdot log\\frac{p(x, y)}{p(x)p(y)}$$\n",
    "$$\\text{Mutual Information} = \\sum_{y \\in Y} \\sum_{x \\in X} p(y \\mid x)p(x) \\cdot log(p(y \\mid x))-\\sum_{y \\in Y} \\sum_{x \\in X} p(y \\mid x)p(x) \\cdot log(p(y))$$\n",
    "$$\\text{Mutual Information} = \\sum_{x \\in X}p(x) \\sum_{y \\in Y} p(y \\mid x) \\cdot log(p(y \\mid x))-\\sum_{y \\in Y}log(p(y)) \\cdot p(y) \\text{By the Law of Total Probability}$$\n",
    "$$\\text{Mutual Information} = -H(Y \\mid X)-(-H(Y))$$\n",
    "$$\\text{Mutual Information}=H(Y)-H(Y \\mid X)$$\n",
    "$$\\text{Mutual Information}=\\text {Information Gain}$$"
   ]
  },
  {
   "cell_type": "markdown",
   "metadata": {},
   "source": [
    "### Part 2 - Preparing a Training Set and Training a Decision Tree (10 Points)\n",
    "This is a hands-on task where we build a predictive model using Decision Trees discussed in class. For this part, we will be using the data in `cell2cell_data.csv`.\n",
    "\n",
    "These historical data consist of 39,859 customers: 19,901 customers that churned (i.e., left the company) and 19,958 that did not churn (see the `\"churndep\"` variable). Here are the data set's 11 possible predictor variables for churning behavior: \n",
    "\n",
    "```\n",
    "Pos.  Var. Name  Var. Description\n",
    "----- ---------- --------------------------------------------------------------\n",
    "1     revenue    Mean monthly revenue in dollars\n",
    "2     outcalls   Mean number of outbound voice calls\n",
    "3     incalls    Mean number of inbound voice calls\n",
    "4     months     Months in Service\n",
    "5     eqpdays    Number of days the customer has had his/her current equipment\n",
    "6     webcap     Handset is web capable\n",
    "7     marryyes   Married (1=Yes; 0=No)\n",
    "8     travel     Has traveled to non-US country (1=Yes; 0=No)\n",
    "9     pcown      Owns a personal computer (1=Yes; 0=No)\n",
    "10    creditcd   Possesses a credit card (1=Yes; 0=No)\n",
    "11    retcalls   Number of calls previously made to retention team\n",
    "```\n",
    "\n",
    "The 12th column, the dependent variable `\"churndep\"`, equals 1 if the customer churned, and 0 otherwise. "
   ]
  },
  {
   "cell_type": "markdown",
   "metadata": {},
   "source": [
    "1\\. Load the data and prepare it for modeling. Note that the features are already processed for you, so the only thing needed here is split the data into training and testing. Use pandas to create two data frames: train_df and test_df, where train_df has 80% of the data chosen uniformly at random without replacement (test_df should have the other 20%). Also, make sure to write your own code to do the splits. You may use any random() function numpy but DO NOT use the data splitting functions from Sklearn."
   ]
  },
  {
   "cell_type": "code",
   "execution_count": 199,
   "metadata": {},
   "outputs": [
    {
     "name": "stdout",
     "output_type": "stream",
     "text": [
      "0.2000050176873479\n",
      "0.7999949823126521\n"
     ]
    }
   ],
   "source": [
    "import pandas as pd\n",
    "df=pd.read_csv(\"/Users/yuqidai/Downloads/cell2cell_data.csv\",names=['revenue','outcalls','incalls','months','eqpdays','webcap',\n",
    "                                                                   'marryyes','travel','pcown','creditcd','retcalls','churndep'])\n",
    "\n",
    "df['index']=df.index\n",
    "train_df=df.sample(frac=0.8)\n",
    "test_df=(pd.concat([train_df,df]))\n",
    "test_df.drop_duplicates(inplace=True,keep=False)\n",
    "print(test_df.shape[0]/df.shape[0])\n",
    "print(train_df.shape[0]/df.shape[0])\n",
    "# Code here"
   ]
  },
  {
   "cell_type": "markdown",
   "metadata": {},
   "source": [
    " 2\\. If we had to, how would we prove to ourselves or a colleague that our data was indeed randomly sampled on X? And by prove, I mean empirically, not just showing this person our code. Don't actually do the work, just describe in your own words a test you could here. Hint: think about this in terms of selection bias and use notes from our 2nd lecture."
   ]
  },
  {
   "cell_type": "markdown",
   "metadata": {},
   "source": [
    "If the sampling process is indeed random, then there shouldn't be selection bias. Namely, the value of features of a data point does not affect the probability that it will be sampled in the new training sample. That is, if the conditional probability of being in sample S that we choose given features X is equal to probability of being in sample S, then the sample is unbiased and indeed randomly selected.\n",
    "$$ P(S \\mid X)=P(S) $$\n",
    "In order to find the conditional probability, we can build a predictive model taking all features as input and trying to predict whether the data is in training set. (1 if in the training set, 0 if in the test set) We can use any model to fit the data and if the AUC score is 0.5, it means that the input and output has no correlation at all and the data is indeed randomly sampled."
   ]
  },
  {
   "cell_type": "markdown",
   "metadata": {},
   "source": [
    "3\\. Now build and train a decision tree classifier using `DecisionTreeClassifier()` [(manual page)](http://scikit-learn.org/stable/modules/generated/sklearn.tree.DecisionTreeClassifier.html) on train_df to predict the `\"churndep\"` target variable. Make sure to use `criterion='entropy'` when instantiating an instance of `DecisionTreeClassifier()`. For all other settings you should use all of the default options."
   ]
  },
  {
   "cell_type": "code",
   "execution_count": 257,
   "metadata": {},
   "outputs": [
    {
     "data": {
      "text/plain": [
       "DecisionTreeClassifier(class_weight=None, criterion='entropy', max_depth=None,\n",
       "            max_features=None, max_leaf_nodes=None,\n",
       "            min_impurity_decrease=0.0, min_impurity_split=None,\n",
       "            min_samples_leaf=1, min_samples_split=2,\n",
       "            min_weight_fraction_leaf=0.0, presort=False, random_state=None,\n",
       "            splitter='best')"
      ]
     },
     "execution_count": 257,
     "metadata": {},
     "output_type": "execute_result"
    }
   ],
   "source": [
    "from sklearn import tree\n",
    "DT=tree.DecisionTreeClassifier(criterion='entropy')\n",
    "X_train=train_df.drop(['churndep','index'],axis=1)\n",
    "y_train=train_df['churndep']\n",
    "X_test=test_df.drop(['churndep','index'],axis=1)\n",
    "y_test=test_df['churndep']\n",
    "DT.fit(X_train,y_train)\n",
    "# Code here"
   ]
  },
  {
   "cell_type": "code",
   "execution_count": 38,
   "metadata": {},
   "outputs": [],
   "source": [
    "import numpy as np"
   ]
  },
  {
   "cell_type": "markdown",
   "metadata": {},
   "source": [
    "4\\. Using the resulting model from 2.3, show a bar plot of feature names and their feature importance (hint: check the attributes of the `DecisionTreeClassifier()` object directly in IPython or check the manual!). Make sure the bar plot is sorted by increasing feature importance values."
   ]
  },
  {
   "cell_type": "code",
   "execution_count": 260,
   "metadata": {},
   "outputs": [
    {
     "data": {
      "text/plain": [
       "<function matplotlib.pyplot.show(*args, **kw)>"
      ]
     },
     "execution_count": 260,
     "metadata": {},
     "output_type": "execute_result"
    },
    {
     "data": {
      "image/png": "[encoded data removed]",
      "text/plain": [
       "<Figure size 1440x720 with 1 Axes>"
      ]
     },
     "metadata": {},
     "output_type": "display_data"
    }
   ],
   "source": [
    "import matplotlib.pyplot as plt\n",
    "%matplotlib inline\n",
    "\n",
    "importance=DT.feature_importances_\n",
    "index=importance.argsort()\n",
    "objects=df.columns[index]\n",
    "importance.sort()\n",
    "\n",
    "fig=plt.figure()\n",
    "fig.set_size_inches(20,10)\n",
    "plt.title='Feature Importance'\n",
    "plt.barh(objects,importance)\n",
    "plt.xlabel('Relative Importance')\n",
    "plt.show\n",
    "# Code here"
   ]
  },
  {
   "cell_type": "code",
   "execution_count": 252,
   "metadata": {},
   "outputs": [
    {
     "data": {
      "text/plain": [
       "Index(['revenue', 'outcalls', 'incalls', 'months', 'webcap', 'marryyes',\n",
       "       'travel', 'pcown', 'creditcd', 'retcalls', 'eqpdays'],\n",
       "      dtype='object')"
      ]
     },
     "execution_count": 252,
     "metadata": {},
     "output_type": "execute_result"
    }
   ],
   "source": [
    "features[index]"
   ]
  },
  {
   "cell_type": "markdown",
   "metadata": {},
   "source": [
    "5\\. Is the relationship between the top 3 most important features (as measured here) negative or positive? If your marketing director asked you to explain the top 3 drivers of churn, how would you interpret the relationship between these 3 features and the churn outcome? What \"real-life\" connection can you draw between each variable and churn? Make sure to state your answer, and not just show code."
   ]
  },
  {
   "cell_type": "code",
   "execution_count": 261,
   "metadata": {},
   "outputs": [
    {
     "data": {
      "text/html": [
       "<div>\n",
       "<style scoped>\n",
       "    .dataframe tbody tr th:only-of-type {\n",
       "        vertical-align: middle;\n",
       "    }\n",
       "\n",
       "    .dataframe tbody tr th {\n",
       "        vertical-align: top;\n",
       "    }\n",
       "\n",
       "    .dataframe thead th {\n",
       "        text-align: right;\n",
       "    }\n",
       "</style>\n",
       "<table border=\"1\" class=\"dataframe\">\n",
       "  <thead>\n",
       "    <tr style=\"text-align: right;\">\n",
       "      <th></th>\n",
       "      <th>churndep</th>\n",
       "      <th>eqpdays</th>\n",
       "      <th>revenue</th>\n",
       "      <th>outcalls</th>\n",
       "    </tr>\n",
       "  </thead>\n",
       "  <tbody>\n",
       "    <tr>\n",
       "      <th>churndep</th>\n",
       "      <td>1.000000</td>\n",
       "      <td>0.113272</td>\n",
       "      <td>-0.009331</td>\n",
       "      <td>-0.038779</td>\n",
       "    </tr>\n",
       "    <tr>\n",
       "      <th>eqpdays</th>\n",
       "      <td>0.113272</td>\n",
       "      <td>1.000000</td>\n",
       "      <td>-0.226403</td>\n",
       "      <td>-0.247771</td>\n",
       "    </tr>\n",
       "    <tr>\n",
       "      <th>revenue</th>\n",
       "      <td>-0.009331</td>\n",
       "      <td>-0.226403</td>\n",
       "      <td>1.000000</td>\n",
       "      <td>0.498437</td>\n",
       "    </tr>\n",
       "    <tr>\n",
       "      <th>outcalls</th>\n",
       "      <td>-0.038779</td>\n",
       "      <td>-0.247771</td>\n",
       "      <td>0.498437</td>\n",
       "      <td>1.000000</td>\n",
       "    </tr>\n",
       "  </tbody>\n",
       "</table>\n",
       "</div>"
      ],
      "text/plain": [
       "          churndep   eqpdays   revenue  outcalls\n",
       "churndep  1.000000  0.113272 -0.009331 -0.038779\n",
       "eqpdays   0.113272  1.000000 -0.226403 -0.247771\n",
       "revenue  -0.009331 -0.226403  1.000000  0.498437\n",
       "outcalls -0.038779 -0.247771  0.498437  1.000000"
      ]
     },
     "execution_count": 261,
     "metadata": {},
     "output_type": "execute_result"
    }
   ],
   "source": [
    "# Code/answer here\n",
    "train_df[['churndep','eqpdays','revenue','outcalls']].corr()"
   ]
  },
  {
   "cell_type": "markdown",
   "metadata": {
    "collapsed": true
   },
   "source": [
    "1. Revenue is related to the churning activity because the lower the revenue of a customer, higher the porbability that the business of the customer is not running well and might stop the telecom service or choose other cheaper telecom company. If the revenue is high, it means that the business of customer went very well so they will not easily stop using the telecom service. So the revenue is negatively correlated with Churning.\n",
    "\n",
    "\n",
    "2. The eqpdays is related to the churning because that the longer a customer use the equipment, the more likely that the equipment is not working so well due to the frequent use. Or people will just think the old equipment is out of time. So the customer will replace it after a period of time and may be choose another brand to get best deal. So the eqpdays is positively correlated with churning.\n",
    "\n",
    "\n",
    "3. Number of outbound calls is related to churning because a large number of outbound call means that the customer using the telecom service very frequently and would not easily stop using the service. So the churning rate is low for them. Thus, the correlation between outbounds and churning is negative.\n"
   ]
  },
  {
   "cell_type": "markdown",
   "metadata": {},
   "source": [
    "6\\. Using the classifier built in 2.3, try predicting \"churndep\" on both the train_df and test_df data sets. What is the accuracy on each? What is your explanation on the difference (or lackthereof) between the two accuracies?"
   ]
  },
  {
   "cell_type": "code",
   "execution_count": 228,
   "metadata": {},
   "outputs": [
    {
     "name": "stdout",
     "output_type": "stream",
     "text": [
      "training set accuracy:\n",
      "0.9998431962868881\n",
      "test set accuracy:\n",
      "0.5377571500250878\n"
     ]
    }
   ],
   "source": [
    "# Code here\n",
    "from sklearn.metrics import accuracy_score\n",
    "prediction_train=DT.predict(X_train)\n",
    "prediction_test=DT.predict(X_test)\n",
    "print('training set accuracy:\\n'+str(accuracy_score(y_train,prediction_train)))\n",
    "print('test set accuracy:\\n'+str(accuracy_score(y_test,prediction_test)))"
   ]
  },
  {
   "cell_type": "markdown",
   "metadata": {},
   "source": [
    "The accuracy of model on predicting the training set is 100% but on predicting the test set is just 53% because that we did not tackle the overfitting problem by setting the maximal layers, minimal splits, minimal leaf size and so on. In order to fits perfectly to the training set, the decision tree grows without a constraint. So the model has poor generalization ability. Thus, its performance is poor when facing the test set, the data that it has not meet before."
   ]
  },
  {
   "cell_type": "markdown",
   "metadata": {},
   "source": [
    "### Part 3 - Finding a Good Decision Tree (10 Points)\n",
    "The default options for your decision tree may not be optimal. We need to analyze whether tuning the parameters can improve the accuracy of the classifier.  For the following options `min_samples_split` and `min_samples_leaf`:"
   ]
  },
  {
   "cell_type": "markdown",
   "metadata": {},
   "source": [
    "1\\. Generate a list of 10 values of each for the parameters mim_samples_split and min_samples_leaf. "
   ]
  },
  {
   "cell_type": "code",
   "execution_count": 240,
   "metadata": {},
   "outputs": [],
   "source": [
    "# Code here\n",
    "import numpy as np\n",
    "min_samples_split_values = np.linspace(0.001,0.4,10,endpoint=True)\n",
    "min_samples_leaf_values = np.linspace(0.001,0.3,10,endpoint=True)"
   ]
  },
  {
   "cell_type": "markdown",
   "metadata": {},
   "source": [
    "2\\. Explain in words your reasoning for choosing the above ranges."
   ]
  },
  {
   "cell_type": "markdown",
   "metadata": {},
   "source": [
    "### 1. Meaning: \n",
    "    The min_samples_split means the minimum number of samples required to split an node. The range is at least one sample at each node to all of the samples. When we increase this parameter, the tree becomes more constrained as it has to consider more samples at each node. If there is no constraint, the model will likely be overfitting. The min_samples_leaf stands for the minimum number of samples required to be at a leaf node. This describe the minimum number of samples at each leaf, the external node. If there is no constraint, the leaf can contain one sample point.\n",
    "\n",
    "\n",
    "### 2. Why do I choose this range: \n",
    "\n",
    "    First round: Since the minimal split value can be from one sample to all samples, we first choose range 0.001 to 1 of sample. The minimal leaf can be from 1 sample to half of all samples, so we set the range to be 0.001 to 0.5. Then we plot the accuracy graph and find that when minimal leaf size is greater than 0.3 or minimal split size is over 0.4, the accuracy is poor.\n",
    "    \n",
    "    Second round: So we then set range of minimal split to be 0.001 to 0.4 and range of minimal leaf to be 0.001 to 0.3 and we get enough variance of results across values of min split and min leaf."
   ]
  },
  {
   "cell_type": "markdown",
   "metadata": {},
   "source": [
    "3\\. For each combination of values in 3.1 (there should be 100), build a new classifier and check the classifier's accuracy on the test data. Plot the test set accuracy for these options. Use the values of `min_samples_split` as the x-axis and generate a new series (line) for each of `min_samples_leaf`."
   ]
  },
  {
   "cell_type": "code",
   "execution_count": 241,
   "metadata": {},
   "outputs": [],
   "source": [
    "import matplotlib.pyplot as plt\n",
    "%matplotlib inline\n",
    "test_accuracy=[]\n",
    "for i in min_samples_leaf_values:\n",
    "    A=[i]\n",
    "    for j in min_samples_split_values:\n",
    "        DT=tree.DecisionTreeClassifier(criterion='entropy',min_samples_split=j,min_samples_leaf=i)\n",
    "        DT.fit(X_train,y_train)\n",
    "        prediction_test=DT.predict(X_test)\n",
    "        A.append(accuracy_score(y_test,prediction_test))\n",
    "    test_accuracy.append(A)\n",
    "# Code here"
   ]
  },
  {
   "cell_type": "code",
   "execution_count": 242,
   "metadata": {},
   "outputs": [
    {
     "data": {
      "image/png": "[encoded data removed]",
      "text/plain": [
       "<Figure size 1440x720 with 1 Axes>"
      ]
     },
     "metadata": {},
     "output_type": "display_data"
    }
   ],
   "source": [
    "from matplotlib.legend_handler import HandlerLine2D\n",
    "fig=plt.figure()\n",
    "fig.set_size_inches(20,10)\n",
    "for i in range(10):\n",
    "    line= plt.plot(min_samples_split_values, test_accuracy[i][1:], label='min leaf: '+str(test_accuracy[i][0]))\n",
    "plt.legend(handler_map={line1: HandlerLine2D(numpoints=10)},loc=0)\n",
    "plt.ylabel('Accuracy')\n",
    "plt.xlabel('min samples split')\n",
    "\n",
    "plt.show()"
   ]
  },
  {
   "cell_type": "markdown",
   "metadata": {},
   "source": [
    "4\\. Which configuration returns the best accuracy? What is this accuracy? (Note, if you don't see much variation in the test set accuracy across values of min_samples_split or min_samples_leaf, try redoing the above steps with a different range of values), and reassess your answer in Q3.2."
   ]
  },
  {
   "cell_type": "code",
   "execution_count": 225,
   "metadata": {},
   "outputs": [
    {
     "name": "stdout",
     "output_type": "stream",
     "text": [
      "test set accuracy:\n",
      "0.6004766683391871\n"
     ]
    }
   ],
   "source": [
    "#In the graph, we can see that when the min split is 0.2, min leaf is 0.035, the accuracy is highest. \n",
    "DT=tree.DecisionTreeClassifier(criterion='entropy',min_samples_split=0.2,min_samples_leaf=0.035)\n",
    "DT.fit(X_train,y_train)\n",
    "prediction_test=DT.predict(X_test)\n",
    "print('test set accuracy:\\n'+str(accuracy_score(y_test,prediction_test)))"
   ]
  },
  {
   "cell_type": "markdown",
   "metadata": {},
   "source": [
    "5\\. If you were working for a marketing department, how would you use your churn production model in a real business environment? Explain why churn prediction might be good for the business and how one might improve churn by using this model."
   ]
  },
  {
   "cell_type": "markdown",
   "metadata": {},
   "source": [
    "Answer here!\n",
    "\n",
    "Q1. Churning is harmful because that it means decrease in revenue. We can use the churn prediction model to locate customers who are likely to churn in the near future. Then if we have the email address, phone number, or home address of those customoers, we can conduct target promotion strategy. We can send coupons or other specially designed advertisement like lower rate for the telecom service. If some customers have been inactive for a longer period of time and are identified as potential churning customers,we should also reach out to them and try to re-engage them or ask them why they’ve been inactive because they might be facing a problem that we can help. \n",
    "\n",
    "\n",
    "Q2. By doing the target promotion and intervention described in the first part, the prediction can acutally help business imporve its revuenue and decrease negative feedback by churning customers by decreasing the churning rate. So the churn prediction model is very desirable for the business.\n",
    "\n",
    "Q3. By using the model, we can improve churn because we can use the method described in Q1 to motivate the potential churning customer to keep using the service. Besides, by checking the model, we can better understand what may cause customer to churn so we can improve the user experience and prevent customer from being potential churning customers."
   ]
  },
  {
   "cell_type": "code",
   "execution_count": null,
   "metadata": {},
   "outputs": [],
   "source": []
  }
 ],
 "metadata": {
  "kernelspec": {
   "display_name": "Python 3",
   "language": "python",
   "name": "python3"
  },
  "language_info": {
   "codemirror_mode": {
    "name": "ipython",
    "version": 3
   },
   "file_extension": ".py",
   "mimetype": "text/x-python",
   "name": "python",
   "nbconvert_exporter": "python",
   "pygments_lexer": "ipython3",
   "version": "3.6.5"
  }
 },
 "nbformat": 4,
 "nbformat_minor": 1
}
