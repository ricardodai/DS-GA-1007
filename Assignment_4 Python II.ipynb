{
 "cells": [
  {
   "cell_type": "markdown",
   "metadata": {},
   "source": [
    "# <span style=\"color:blue\">Programming for Data Science - DS-GA 1007</span>\n",
    "## <span style=\"color:blue\">Assignment 4: Python II - Classes, Modules, and Exceptions</span>"
   ]
  },
  {
   "cell_type": "markdown",
   "metadata": {},
   "source": [
    "### Exercise 1. (2.0 points) \n",
    "Consider de python class `student` as stated below:"
   ]
  },
  {
   "cell_type": "code",
   "execution_count": 54,
   "metadata": {},
   "outputs": [],
   "source": [
    "class student():\n",
    "    \n",
    "### BEGIN SOLUTION\n",
    "    def __init__(self,lis=['',-1,-1]):\n",
    "        self.Name=lis[0]\n",
    "        self.Age=lis[1]\n",
    "        self.Level=lis[2]\n",
    "    def add_name(self,Name):\n",
    "        self.Name=Name\n",
    "    def add_age(self,Age):\n",
    "        self.Age=Age\n",
    "    def add_level(self,Level):\n",
    "        self.Level=Level\n",
    "        \n",
    "    def __repr__(self):\n",
    "        return('Name: '+self.Name+'\\n'+\n",
    "               'Age: '+str(self.Age)+'\\n'+\n",
    "               'Level: '+str(self.Level))\n",
    "    \n",
    "### END SOLUTION\n"
   ]
  },
  {
   "cell_type": "markdown",
   "metadata": {},
   "source": [
    "Complete the class `student` by implementing the missing methods so as to make the code below:"
   ]
  },
  {
   "cell_type": "code",
   "execution_count": 55,
   "metadata": {},
   "outputs": [
    {
     "name": "stdout",
     "output_type": "stream",
     "text": [
      "Name: Gustavo\n",
      "Age: 48\n",
      "Level: 1\n",
      "Name: Patro\n",
      "Age: 45\n",
      "Level: 2\n",
      "Name: \n",
      "Age: -1\n",
      "Level: -1\n"
     ]
    }
   ],
   "source": [
    "s1 = student()\n",
    "s1.add_name('Gustavo')\n",
    "s1.add_age(48)\n",
    "s1.add_level(1)\n",
    "print(s1)\n",
    "\n",
    "s2 = student(['Patro',45,2])\n",
    "print(s2)\n",
    "\n",
    "s3 = student()\n",
    "print(s3)\n"
   ]
  },
  {
   "cell_type": "markdown",
   "metadata": {},
   "source": [
    "to generate following output:\n",
    "```\n",
    "Name: Gustavo\n",
    "Age: 48\n",
    "Level: 1\n",
    "\n",
    "Name: Patro\n",
    "Age: 45\n",
    "Level: 2\n",
    "\n",
    "Name: \n",
    "Age: -1\n",
    "Level: -1\n",
    "```"
   ]
  },
  {
   "cell_type": "markdown",
   "metadata": {
    "collapsed": true
   },
   "source": [
    "### Exercise 2. (2.0 point) \n",
    "Suppose we want to create a subclass called <font color='blue'>studentCDS</font> from the class <font color='blue'>student</font> .<br>\n",
    "This subclass should contain two new attributes: <font color='blue'>programming_skill</font>, with possible values LOW, MEDIAN, or HIGH, and <font color='blue'>math_background</font>, with possible values YES or NO.<br>\n",
    "\n",
    "Write the subclass <font color='blue'>studentCDS</font> inheriting the attributes from class <font color='blue'>student</font>. Extend the constructor and implement methods to handle the new attributes <font color='blue'>programming_skill</font> and <font color='blue'>math_background</font>, overloading the print function to include the content of the new attributes in the output. <br><br>"
   ]
  },
  {
   "cell_type": "code",
   "execution_count": 59,
   "metadata": {},
   "outputs": [],
   "source": [
    "### BEGIN SOLUTION\n",
    "class studentCDS(student):\n",
    "    def __init__(self,lis=['',-1,-1,'LOW','NO']):\n",
    "        if len(lis)==1:\n",
    "            lis=[lis[0],-1,-1,'LOW','NO']\n",
    "        if len(lis)==2:\n",
    "            lis.extend([-1,'LOW','NO'])\n",
    "        if len(lis)==3:\n",
    "            lis.extend(['LOW','NO'])\n",
    "        if len(lis)==4:\n",
    "            lis.append('NO')\n",
    "        student.__init__(self,lis)\n",
    "        self.SKILL=lis[3]\n",
    "        self.MATH=lis[4]\n",
    "    def add_skill(self,SKILL):\n",
    "        self.SKILL=SKILL\n",
    "    def add_math(self,MATH):\n",
    "        self.MATH=MATH\n",
    "    def __repr__(self):\n",
    "        \n",
    "        return(student.__repr__(self)+'\\n'+'Programming Skill: '+str(self.SKILL)+'\\n'+\n",
    "               'Math Background: '+str(self.MATH)+'\\n')\n",
    "        \n",
    "### END SOLUTION"
   ]
  },
  {
   "cell_type": "markdown",
   "metadata": {},
   "source": [
    "The code below: "
   ]
  },
  {
   "cell_type": "code",
   "execution_count": 61,
   "metadata": {},
   "outputs": [
    {
     "name": "stdout",
     "output_type": "stream",
     "text": [
      "Name: Gustavo\n",
      "Age: 48\n",
      "Level: 1\n",
      "Programming Skill: HIGH\n",
      "Math Background: YES\n",
      "\n",
      "Name: Alce\n",
      "Age: 48\n",
      "Level: 1\n",
      "Programming Skill: MEDIAN\n",
      "Math Background: Yes\n",
      "\n",
      "Name: Petra\n",
      "Age: -1\n",
      "Level: -1\n",
      "Programming Skill: LOW\n",
      "Math Background: NO\n",
      "\n",
      "Name: \n",
      "Age: -1\n",
      "Level: -1\n",
      "Programming Skill: LOW\n",
      "Math Background: NO\n",
      "\n"
     ]
    }
   ],
   "source": [
    "x_cds = studentCDS(['Gustavo',48,1,'HIGH','YES'])\n",
    "print(x_cds)\n",
    "\n",
    "y_cds = studentCDS(['Alce',48,1])\n",
    "y_cds.add_skill('MEDIAN')\n",
    "y_cds.add_math('Yes')\n",
    "print(y_cds)\n",
    "\n",
    "z_cds = studentCDS(['Petra'])\n",
    "print(z_cds)\n",
    "\n",
    "w_cds = studentCDS()\n",
    "print(w_cds)\n"
   ]
  },
  {
   "cell_type": "markdown",
   "metadata": {},
   "source": [
    "should result in:\n",
    "```\n",
    "Name: Gustavo\n",
    "Age: 48\n",
    "Level: 1\n",
    "Programming Skill: HIGH\n",
    "Math Backgroud: YES\n",
    "\n",
    "Name: Alce\n",
    "Age: 48\n",
    "Level: 1\n",
    "Programming Skill: MEDIAN\n",
    "Math Backgroud: Yes\n",
    "\n",
    "Name: Petra\n",
    "Age: -1\n",
    "Level: -1\n",
    "Programming Skill: LOW\n",
    "Math Backgroud: NO\n",
    "\n",
    "Name: \n",
    "Age: -1\n",
    "Level: -1\n",
    "Programming Skill: LOW\n",
    "Math Backgroud: NO\n",
    "```"
   ]
  },
  {
   "cell_type": "markdown",
   "metadata": {},
   "source": [
    "### Exercise 3. (2.0 points) \n",
    "The following code plays with the scope of the variables __X__. Explain how the statements <font color='blue'>nonlocal</font> and <font color='blue'>global</font> affects __X__. More precisely:\n",
    "- how many distinct variables __X__ does the code have? \n",
    "- Why is the value of __X__ different in the print '3' and '6' while it remains the same in '2' and '7'? \n",
    "- Why are the values different in the print '1' and '8'?"
   ]
  },
  {
   "cell_type": "code",
   "execution_count": 23,
   "metadata": {},
   "outputs": [
    {
     "name": "stdout",
     "output_type": "stream",
     "text": [
      "1. 0\n",
      "2. 1\n",
      "3. 2\n",
      "4. 3\n",
      "5. 4\n",
      "6. 3\n",
      "7. 1\n",
      "8. 4\n"
     ]
    }
   ],
   "source": [
    "X = 0 \n",
    "\n",
    "def outerf():\n",
    "    X = 1  \n",
    "    def innerf1():\n",
    "        X = 2\n",
    "        def innerf2():\n",
    "            nonlocal X \n",
    "            X = 3\n",
    "            print('4.',X)\n",
    "        \n",
    "        def innerf3():\n",
    "            global X\n",
    "            X = 4\n",
    "            print('5.',X)\n",
    "            \n",
    "        print('3.',X)\n",
    "        innerf2()\n",
    "        innerf3()\n",
    "        print('6.',X)\n",
    "        \n",
    "    print('2.',X)\n",
    "    innerf1()\n",
    "    print('7.',X)\n",
    "    \n",
    "print('1.',X)\n",
    "outerf()\n",
    "print('8.',X)\n",
    "    "
   ]
  },
  {
   "cell_type": "markdown",
   "metadata": {},
   "source": [
    "__Answer__:\n",
    "1. There are 3 distinct X.\n",
    "2. Answer in print '3' is 2 because it refers to X=2 right below the innerf1 line but between print'3' and print '6', innerf2 is called and it has nonlocal X which resets the X in the outer function which is X=2 to X=3. So in the print '6' part, the X has changed to 3. However, between print '2' and print '7', there is a innerf1 called which also calls innerf2 and innerf3 and changes the X=2 in outer function innerf1 to X=3 and changes the X=0 in the global to X=4. But the X=1 in the outer function of innerf1 has not been affected so in print '2' and '7', the X both refers to 1.\n",
    "3. In print '1' and '8', X both refer to the global X. In print '1', X is just 0 as defined in the first line but between print '1' and '8',outerf is called then innerf1 called, then innerf2, innerf3 called. Innerf3 changes the global X to 4 so in print '8', X is 4."
   ]
  },
  {
   "cell_type": "markdown",
   "metadata": {},
   "source": [
    "### Exercise 4. (2.0 points) \n",
    "Consider the following code:"
   ]
  },
  {
   "cell_type": "code",
   "execution_count": 26,
   "metadata": {},
   "outputs": [],
   "source": [
    "class student2():\n",
    "    def __init__(self,s=None):\n",
    "        if (s != None):\n",
    "            try:\n",
    "                self.name = str(s[0])\n",
    "                self.age = int(s[1])\n",
    "                self.level = int(s[2])\n",
    "            except ValueError:\n",
    "                print('Invalid value for student info.\\n')\n",
    "            else:\n",
    "                print('Info properly assigned to the student!!')\n",
    "                print('Name: '+self.name+'\\n'+'Age: '+str(self.age)+'\\n'+'Level: '+str(self.level)+'\\n')\n",
    "        else:\n",
    "            self.name = ''\n",
    "            self.age = -1\n",
    "            self.level = -1\n",
    "            "
   ]
  },
  {
   "cell_type": "markdown",
   "metadata": {},
   "source": [
    "Which of the statements below will raise an exception? Pinpoint what is triggering the exception and what is not.  "
   ]
  },
  {
   "cell_type": "markdown",
   "metadata": {},
   "source": [
    "```python\n",
    "a) x = student2(['gustavo','4f:',1])\n",
    "b) x = student2(['gustavo','48',1])\n",
    "c) x = student2([5,48,1])\n",
    "d) x = student2(['gustavo',48,'h'])\n",
    "```"
   ]
  },
  {
   "cell_type": "markdown",
   "metadata": {},
   "source": [
    "__Answer__:\n",
    "\n",
    "a) will raise an exception: the first and the third term will trigger but the second term '4f:' will because\n",
    "4f: cannot be changed into a proper interger.\n",
    "\n",
    "d) will raise and exception: the first and second term are fine but the third term 'h' cannot be changed into\n",
    "a interger so it will triger a exception."
   ]
  },
  {
   "cell_type": "markdown",
   "metadata": {},
   "source": [
    "### Exercise 5. (2.0 points) \n",
    "Consider the file called <font color='blue'>moduleij.py</font> (you will need to create this file to make the code below work properly), whose content is:\n",
    "\n",
    "```python\n",
    "# moduleij.py\n",
    "\n",
    "i = 1\n",
    "j = 2\n",
    "\n",
    "def print_ij():\n",
    "    print(i,j)\n",
    "```\n",
    "\n",
    "Run the code 1 and code 2 below and explain why the outputs are different. \n",
    "\n",
    "Can you explain what is happening with the variable i?\n",
    "\n",
    "What happen when you run the code 1 and code 2 again? Explain what you are observing and why that is happening."
   ]
  },
  {
   "cell_type": "code",
   "execution_count": 89,
   "metadata": {},
   "outputs": [
    {
     "name": "stdout",
     "output_type": "stream",
     "text": [
      "Overwriting moduleij.py\n"
     ]
    }
   ],
   "source": [
    "%%writefile moduleij.py\n",
    "# this cell creates the file moduleij.py\n",
    "__all__=['i','j','print_ij']\n",
    "i = 1\n",
    "j = 2\n",
    "\n",
    "def print_ij():\n",
    "    print(i,j)"
   ]
  },
  {
   "cell_type": "code",
   "execution_count": 92,
   "metadata": {},
   "outputs": [
    {
     "name": "stdout",
     "output_type": "stream",
     "text": [
      "-2 2\n",
      "-2 2\n"
     ]
    }
   ],
   "source": [
    "# code 1\n",
    "\n",
    "from moduleij import print_ij, i, j\n",
    "\n",
    "print(i,j)\n",
    "i = -2\n",
    "print_ij()"
   ]
  },
  {
   "cell_type": "code",
   "execution_count": 93,
   "metadata": {},
   "outputs": [
    {
     "name": "stdout",
     "output_type": "stream",
     "text": [
      "-2 2\n",
      "-2 2\n"
     ]
    }
   ],
   "source": [
    "# code 2\n",
    "\n",
    "import moduleij as mdij\n",
    "\n",
    "print(i,j)\n",
    "\n",
    "mdij.i = -2\n",
    "\n",
    "mdij.print_ij()"
   ]
  },
  {
   "cell_type": "markdown",
   "metadata": {},
   "source": [
    "__Answer__:\n",
    "\n",
    "\n",
    "1. Because in the code 1, i, j are imported, i, j become the symbol in the global scope of the importing module. When a new value -2 is assigned to the i, it just cannot change the actual value of i defined in the module creation. So in code 1, both results are 1 2 because print_ij refers to the real value of i and j in the module. In code 2, print(i,j) will return the i created by the local assignment in code 1 and j in the module creation. Then, the code mdij.i =-2 actually changes the value of i defined in the module so when print_ij is called, the i has become -2 and j is still 2.\n",
    "\n",
    "\n",
    "2. The variable i is given value 1 in the module creation and imported, but when the line i=-2 is executed, the value of i points to -2 but its inherent value is still 1. Then when the line mdij.i = -2 is executed, the real value of i in the module is changed to -2.\n",
    "\n",
    "\n",
    "3. When we run code 1 and code 2 again, they both become -2 2 and -2 2, because after we run them for the first time the value of i in the module and the local value it points to both are changed to -2 so in the second round the results are all the same. "
   ]
  },
  {
   "cell_type": "code",
   "execution_count": null,
   "metadata": {},
   "outputs": [],
   "source": []
  }
 ],
 "metadata": {
  "kernelspec": {
   "display_name": "Python 3",
   "language": "python",
   "name": "python3"
  },
  "language_info": {
   "codemirror_mode": {
    "name": "ipython",
    "version": 3
   },
   "file_extension": ".py",
   "mimetype": "text/x-python",
   "name": "python",
   "nbconvert_exporter": "python",
   "pygments_lexer": "ipython3",
   "version": "3.6.5"
  }
 },
 "nbformat": 4,
 "nbformat_minor": 2
}
