{
 "cells": [
  {
   "cell_type": "markdown",
   "metadata": {},
   "source": [
    "# <span style=\"color:blue\">Programming for Data Science - DS-GA 1007</span>\n",
    "## <span style=\"color:blue\">Assignment 8: Pandas - Part III</span>\n",
    "---"
   ]
  },
  {
   "cell_type": "markdown",
   "metadata": {},
   "source": [
    "This assignment will require the database of restaurant grades that can be downloaded from:\n",
    "\n",
    "https://data.cityofnewyork.us/Health/DOHMH-New-York-City-Restaurant-Inspection-Results/43nn-pn8j"
   ]
  },
  {
   "cell_type": "markdown",
   "metadata": {},
   "source": [
    "__Question 1.__ (1.5 points) Import the dataset into a pandas DataFrame. You will need to clean up the data, for example, by removing all entries that have invalid grades (in the ‘GRADE’ column). Print the number of rows that was removed by the cleaning process."
   ]
  },
  {
   "cell_type": "code",
   "execution_count": 1,
   "metadata": {},
   "outputs": [
    {
     "name": "stdout",
     "output_type": "stream",
     "text": [
      "Number of Rows Before Cleaning: 381645\n",
      "Number of Rows After Cleaning: 185385\n",
      "Number of Removed Rows : 196260\n"
     ]
    }
   ],
   "source": [
    "# Solution\n",
    "import pandas as pd\n",
    "df=pd.read_csv('/Users/yuqidai/Downloads/DOHMH_New_York_City_Restaurant_Inspection_Results.csv')\n",
    "n_orig=df.shape[0]\n",
    "df.dropna(inplace=True)\n",
    "n_clean=df.shape[0]\n",
    "df['id']=df.index\n",
    "print('Number of Rows Before Cleaning:',n_orig)\n",
    "print('Number of Rows After Cleaning:',n_clean)\n",
    "print('Number of Removed Rows :',n_orig-n_clean)"
   ]
  },
  {
   "cell_type": "markdown",
   "metadata": {},
   "source": [
    "__Question 2.__ (3.0 points) Write a function called <font color=blue>Group_Years</font> which receives the cleaned dataframe as a parameter and returns an object with restaurantes grouped by years according to the column 'GRADE DATE'. Print the names of the groups (which correspond to the years).<br><br>\n",
    "__Hint:__ Use the <font color=blue>dateutil</font> package to parser the column 'GRADE DATE' as a date type and the method <font color=blue>dt</font> available in the DataFrame class to get the year."
   ]
  },
  {
   "cell_type": "code",
   "execution_count": 2,
   "metadata": {},
   "outputs": [],
   "source": [
    "# Solution\n",
    "import dateutil\n",
    "def Group_Years(restaurants):\n",
    "    year=[]\n",
    "    for i in df.index:\n",
    "        year.append(dateutil.parser.parse(restaurants['GRADE DATE'][i]).year)\n",
    "    restaurants['Year']=year\n",
    "    df1=restaurants[\"DBA\"].groupby(restaurants['Year'])\n",
    "    \n",
    "    return df1\n"
   ]
  },
  {
   "cell_type": "code",
   "execution_count": 3,
   "metadata": {},
   "outputs": [
    {
     "name": "stdout",
     "output_type": "stream",
     "text": [
      "2012\n",
      "2013\n",
      "2014\n",
      "2015\n",
      "2016\n",
      "2017\n",
      "2018\n"
     ]
    }
   ],
   "source": [
    "for i,j in Group_Years(df):\n",
    "    print (i)"
   ]
  },
  {
   "cell_type": "markdown",
   "metadata": {},
   "source": [
    "__Question 3.__ (3.0 points) Write a function called <font color=blue>Restaurant_Grades</font> which receives _year_ as one of the parameters and returns the number of restaurants graded as 'A', 'B', and 'C' in that particular year. Print out the number of restaurants in each grade for all years in the dataset. Format your print as below:\n",
    "```\n",
    "2014\n",
    "A :  23005\n",
    "B :  5171\n",
    "C :  1380\n",
    "2015\n",
    "A :  43943\n",
    "B :  8803\n",
    "C :  1983\n",
    ".\n",
    ".\n",
    ".\n",
    "```\n"
   ]
  },
  {
   "cell_type": "code",
   "execution_count": 4,
   "metadata": {},
   "outputs": [],
   "source": [
    "group_by_year = df.groupby(df['Year'])\n",
    "years = [2012,2013,2014,2015,2016,2017,2018]\n",
    "def Grade(group_by_year,year):\n",
    "    grade_list = list(group_by_year.get_group(year)['GRADE'])\n",
    "    print( str(year) + '\\n' + 'A :  ' + str(grade_list.count('A')) + '\\n' + 'B :  ' + str(grade_list.count('B')) + '\\n' + 'C :  ' + str(grade_list.count('C')))"
   ]
  },
  {
   "cell_type": "code",
   "execution_count": 5,
   "metadata": {},
   "outputs": [
    {
     "name": "stdout",
     "output_type": "stream",
     "text": [
      "2012\n",
      "A :  2\n",
      "B :  0\n",
      "C :  0\n",
      "2013\n",
      "A :  2\n",
      "B :  0\n",
      "C :  0\n",
      "2014\n",
      "A :  389\n",
      "B :  42\n",
      "C :  11\n",
      "2015\n",
      "A :  19261\n",
      "B :  3408\n",
      "C :  829\n",
      "2016\n",
      "A :  39429\n",
      "B :  6413\n",
      "C :  1609\n",
      "2017\n",
      "A :  40281\n",
      "B :  6264\n",
      "C :  1904\n",
      "2018\n",
      "A :  49020\n",
      "B :  7974\n",
      "C :  2846\n"
     ]
    }
   ],
   "source": [
    "for i in years:\n",
    "    Grade(group_by_year,i)"
   ]
  },
  {
   "cell_type": "markdown",
   "metadata": {},
   "source": [
    "__Question 4.__ (2.5 points) Generate the following plots:\n",
    "1. NYC: bar plot comparing the grades, over the years, for all the instances in the dataset.\n",
    "2. Brooklyn: bar plot comparing the grades of Brooklyn's restaurants over the years.\n",
    "3. Manhattan: bar plot comparing the grades of Manhattan's restaurants over time.<br>\n",
    "\n",
    "The plots should look like (download _assignment8-plots.png_ from NYU Classes):\n",
    "<img src=\"assignment8-plots.png\" width=\"800\" height=\"500\" />"
   ]
  },
  {
   "cell_type": "code",
   "execution_count": 6,
   "metadata": {},
   "outputs": [
    {
     "data": {
      "text/plain": [
       "(array([2011., 2012., 2013., 2014., 2015., 2016., 2017., 2018., 2019.]),\n",
       " <a list of 9 Text xticklabel objects>)"
      ]
     },
     "execution_count": 6,
     "metadata": {},
     "output_type": "execute_result"
    },
    {
     "data": {
      "image/png": "[encoded data removed]",
      "text/plain": [
       "<Figure size 1440x360 with 3 Axes>"
      ]
     },
     "metadata": {},
     "output_type": "display_data"
    }
   ],
   "source": [
    "# Solution \n",
    "import matplotlib.pyplot as plt\n",
    "%matplotlib inline\n",
    "\n",
    "# Solution \n",
    "import matplotlib.pyplot as plt\n",
    "%matplotlib inline\n",
    "\n",
    "def newlist(df, g, NYC = False, Manhattan = False,Brooklyn = False):\n",
    "    result = []\n",
    "    if Brooklyn == True:\n",
    "        data = df[df['BORO'] == 'BROOKLYN']\n",
    "    elif Manhattan == True:\n",
    "        data = df[df['BORO'] == 'MANHATTAN']\n",
    "    else:\n",
    "        data = df\n",
    "    g_year = data.groupby(data['Year'])\n",
    "    for i in years:\n",
    "        if i not in list(g_year.groups.keys()):\n",
    "            result.append(0)\n",
    "        else:\n",
    "            grade_list = list(group_by_year.get_group(i)['GRADE'])\n",
    "            result.append(grade_list.count(g))\n",
    "    return result\n",
    "barwidth=0.3\n",
    "plt.figure(figsize = (20,5))\n",
    "plt.subplot(131)\n",
    "for i,j in enumerate(['A','B','C']):\n",
    "    rate1 = newlist(df, j,NYC=True)\n",
    "    plt.bar([a + barwidth*(i-1) for a in years ], rate1, width = 0.3, label = j)\n",
    "plt.legend()\n",
    "plt.title('NYC')\n",
    "plt.xticks(rotation=45)\n",
    "\n",
    "plt.subplot(132)\n",
    "for i,j in enumerate(['A','B','C']):\n",
    "    rate2 = newlist(df, j, Brooklyn = True)\n",
    "    plt.bar([a + barwidth*(i-1) for a in years ], rate2, width = 0.3, label = j)\n",
    "plt.legend()\n",
    "plt.title('Brooklyn')\n",
    "plt.xticks(rotation=45)\n",
    "\n",
    "plt.subplot(133)\n",
    "for i,j in enumerate(['A','B','C']):\n",
    "    rate3 = newlist(df, j, Manhattan = True)\n",
    "    plt.bar([a + barwidth*(i-1) for a in years ], rate3, width = 0.3, label = j)\n",
    "plt.legend()\n",
    "plt.title('Manhattan')\n",
    "plt.xticks(rotation=45)"
   ]
  },
  {
   "cell_type": "markdown",
   "metadata": {
    "collapsed": true
   },
   "source": [
    "Based on the plots, can you claim that the quality of the restaurants are improving over years?\n",
    "\n",
    "__Answer__: Actually not, because the amounts of B and C grade resturant are increasing as well so we cannot draw such conclusion without checking the actual ratio of type A and type C or B resturants."
   ]
  },
  {
   "cell_type": "code",
   "execution_count": null,
   "metadata": {},
   "outputs": [],
   "source": []
  }
 ],
 "metadata": {
  "kernelspec": {
   "display_name": "Python 3",
   "language": "python",
   "name": "python3"
  },
  "language_info": {
   "codemirror_mode": {
    "name": "ipython",
    "version": 3
   },
   "file_extension": ".py",
   "mimetype": "text/x-python",
   "name": "python",
   "nbconvert_exporter": "python",
   "pygments_lexer": "ipython3",
   "version": "3.6.5"
  }
 },
 "nbformat": 4,
 "nbformat_minor": 2
}
