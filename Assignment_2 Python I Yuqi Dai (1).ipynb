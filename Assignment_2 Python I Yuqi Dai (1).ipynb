{
 "cells": [
  {
   "cell_type": "markdown",
   "metadata": {
    "nbgrader": {
     "grade": false,
     "locked": false,
     "solution": false
    },
    "slideshow": {
     "slide_type": "-"
    }
   },
   "source": [
    "# <span style=\"color:blue\">Programming for Data Science - DS-GA 1007</span>\n",
    "## <span style=\"color:blue\">Assignment 2</span>\n",
    "### Yuqi Dai"
   ]
  },
  {
   "cell_type": "markdown",
   "metadata": {},
   "source": [
    "## 1. Function return value\n",
    "\n",
    "This exercise is to show you how function return values work. Run the code below to see what happens."
   ]
  },
  {
   "cell_type": "code",
   "execution_count": 1,
   "metadata": {
    "nbgrader": {
     "grade": false,
     "grade_id": "Q1A",
     "locked": true,
     "solution": false
    }
   },
   "outputs": [
    {
     "name": "stdout",
     "output_type": "stream",
     "text": [
      "5\n"
     ]
    },
    {
     "data": {
      "text/plain": [
       "5"
      ]
     },
     "execution_count": 1,
     "metadata": {},
     "output_type": "execute_result"
    }
   ],
   "source": [
    "def f1(x):\n",
    "    print(x + 1)\n",
    "\n",
    "def f2(x):\n",
    "    return(x + 1)\n",
    "\n",
    "f1(4)\n",
    "f2(4)"
   ]
  },
  {
   "cell_type": "markdown",
   "metadata": {},
   "source": [
    "Each function should produce the same output. Now run the following code."
   ]
  },
  {
   "cell_type": "code",
   "execution_count": 2,
   "metadata": {},
   "outputs": [
    {
     "name": "stdout",
     "output_type": "stream",
     "text": [
      "5\n"
     ]
    },
    {
     "ename": "TypeError",
     "evalue": "unsupported operand type(s) for +: 'NoneType' and 'int'",
     "output_type": "error",
     "traceback": [
      "\u001b[0;31m---------------------------------------------------------------------------\u001b[0m",
      "\u001b[0;31mTypeError\u001b[0m                                 Traceback (most recent call last)",
      "\u001b[0;32m<ipython-input-2-e43349f4d454>\u001b[0m in \u001b[0;36m<module>\u001b[0;34m()\u001b[0m\n\u001b[0;32m----> 1\u001b[0;31m \u001b[0mf1\u001b[0m\u001b[0;34m(\u001b[0m\u001b[0;36m4\u001b[0m\u001b[0;34m)\u001b[0m \u001b[0;34m+\u001b[0m \u001b[0;36m1\u001b[0m\u001b[0;34m\u001b[0m\u001b[0m\n\u001b[0m\u001b[1;32m      2\u001b[0m \u001b[0mf2\u001b[0m\u001b[0;34m(\u001b[0m\u001b[0;36m4\u001b[0m\u001b[0;34m)\u001b[0m \u001b[0;34m+\u001b[0m \u001b[0;36m1\u001b[0m\u001b[0;34m\u001b[0m\u001b[0m\n",
      "\u001b[0;31mTypeError\u001b[0m: unsupported operand type(s) for +: 'NoneType' and 'int'"
     ]
    }
   ],
   "source": [
    "f1(4) + 1\n",
    "f2(4) + 1"
   ]
  },
  {
   "cell_type": "markdown",
   "metadata": {},
   "source": [
    "__Question__: Explain what is happening and why you get the error message."
   ]
  },
  {
   "cell_type": "markdown",
   "metadata": {},
   "source": [
    "<span style=\"color:gray\">(Place your answer in this markdown cell)</span><br>\n",
    "__Answer__:When the function is called, it will return nothing which is a NoneType object and 1 is an interger, so we cannot add interger to a nonetype object."
   ]
  },
  {
   "cell_type": "code",
   "execution_count": 3,
   "metadata": {},
   "outputs": [
    {
     "name": "stdout",
     "output_type": "stream",
     "text": [
      "4\n"
     ]
    },
    {
     "data": {
      "text/plain": [
       "NoneType"
      ]
     },
     "execution_count": 3,
     "metadata": {},
     "output_type": "execute_result"
    }
   ],
   "source": [
    "type(f1(3))"
   ]
  },
  {
   "cell_type": "markdown",
   "metadata": {},
   "source": [
    "---\n",
    "## 2. Function operation"
   ]
  },
  {
   "cell_type": "markdown",
   "metadata": {},
   "source": [
    "Consider the following piece of code:\n",
    "\n",
    "```python\n",
    "def f(x):\n",
    "    if x == 0 or x == 1:\n",
    "        return x\n",
    "    return f(x - 1) + f(x - 2)\n",
    "```"
   ]
  },
  {
   "cell_type": "markdown",
   "metadata": {},
   "source": [
    "__Question__: Describe, in words, what this code does, and how it does it."
   ]
  },
  {
   "cell_type": "markdown",
   "metadata": {},
   "source": [
    "<span style=\"color:gray\">(Place your answer in this markdown cell)</span><br>\n",
    "__Answer:__ It returns the nth term of a Fibonacci sequence. It defines the nth term as the sum of two previous terms and set the first term to be 1 and 0th term to be 0."
   ]
  },
  {
   "cell_type": "markdown",
   "metadata": {},
   "source": [
    "__Question__: For what inputs will this function not behave as expected? What will happen?"
   ]
  },
  {
   "cell_type": "markdown",
   "metadata": {},
   "source": [
    "<span style=\"color:gray\">(Place your answer in this markdown cell)</span><br>\n",
    "__Answer:__ If we set negative number or a fraction, the recursion will not be ended because 0 or 1 cannot be reached by subtracting 1 and 2 from the input. So the maximal depth of recursion will be reached."
   ]
  },
  {
   "cell_type": "markdown",
   "metadata": {
    "slideshow": {
     "slide_type": "-"
    }
   },
   "source": [
    "---\n",
    "## 3. Defining a function\n",
    "\n",
    "The following program plays the game of \"Rock, Paper, and Scissors\". Familiarize yourself with it in order to understand how it works. Try running the program."
   ]
  },
  {
   "cell_type": "code",
   "execution_count": 5,
   "metadata": {
    "nbgrader": {
     "grade": false,
     "grade_id": "Q3A",
     "locked": true,
     "solution": false
    },
    "slideshow": {
     "slide_type": "-"
    }
   },
   "outputs": [
    {
     "name": "stdout",
     "output_type": "stream",
     "text": [
      "You are playing a Rock, Paper, Scissors simulation.\n",
      "Select R for rock, P for Paper, S for scissors, Q to quit\n",
      "> s\n",
      "Computer chooses S\n",
      "Tie Game\n",
      "Select R for rock, P for Paper, S for scissors, Q to quit\n",
      "> r\n",
      "Computer chooses R\n",
      "Tie Game\n",
      "Select R for rock, P for Paper, S for scissors, Q to quit\n",
      "> p\n",
      "Computer chooses S\n",
      "Computer wins!\n",
      "Select R for rock, P for Paper, S for scissors, Q to quit\n",
      "> q\n"
     ]
    }
   ],
   "source": [
    "from random import randint\n",
    "valid_input = [\"R\", \"P\", \"S\"]\n",
    "winners = [[\"R\", \"S\"], [\"S\", \"P\"], [\"P\", \"R\"]]\n",
    "\n",
    "print(\"You are playing a Rock, Paper, Scissors simulation.\")\n",
    "user_choice = input(\"Select R for rock, P for Paper, S for scissors, Q to quit\\n> \")\n",
    "user_choice = user_choice.upper()\n",
    "\n",
    "while user_choice != 'Q':\n",
    "    if user_choice not in valid_input:\n",
    "        print(\"Error: invalid input -- \" + user_choice)\n",
    "        break\n",
    "    \n",
    "    computer_choice = valid_input[randint(0, len(valid_input)-1)]\n",
    "    print(\"Computer chooses \" + computer_choice)\n",
    "\n",
    "    if user_choice == computer_choice:\n",
    "        print(\"Tie Game\")\n",
    "    elif [user_choice, computer_choice] in winners:\n",
    "        print(\"You win!\")\n",
    "    else:\n",
    "        print(\"Computer wins!\")\n",
    "    \n",
    "    user_choice = input(\"Select R for rock, P for Paper, S for scissors, Q to quit\\n> \")\n",
    "    user_choice = user_choice.upper()"
   ]
  },
  {
   "cell_type": "markdown",
   "metadata": {
    "slideshow": {
     "slide_type": "-"
    }
   },
   "source": [
    "Recall how we define a function using `def`, and how we pass in parameters. Transform the code into a function called `rps` that takes two parameters: `user_choice` and `computer_choice`, with valid inputs `'R'`, `'P'`, and `'S'`. Your function should return `'D'` for a tie, `'W'` if `user_choice` wins, and `'L'` if `user_choice` loses."
   ]
  },
  {
   "cell_type": "code",
   "execution_count": 7,
   "metadata": {
    "nbgrader": {
     "grade": false,
     "grade_id": "Q3B",
     "locked": false,
     "solution": true
    }
   },
   "outputs": [
    {
     "name": "stdout",
     "output_type": "stream",
     "text": [
      "You are playing a Rock, Paper, Scissors simulation.\n",
      "Select R for rock, P for Paper, S for scissors, Q to quit\n",
      "> r\n",
      "Computer chooses R\n",
      "Tie Game\n",
      "Select R for rock, P for Paper, S for scissors, Q to quit\n",
      "> q\n"
     ]
    }
   ],
   "source": [
    "from random import randint\n",
    "valid_input = [\"R\", \"P\", \"S\"]\n",
    "winners = [[\"R\", \"S\"], [\"S\", \"P\"], [\"P\", \"R\"]]\n",
    "\n",
    "### BEGIN SOLUTION\n",
    "def rps(user_choice,computer_choice):\n",
    "    if user_choice==computer_choice:\n",
    "        return \"D\"\n",
    "    if [user_choice,computer_choice] in winners:\n",
    "        return \"W\"\n",
    "    else:\n",
    "        return \"L\"\n",
    "### END SOLUTION\n",
    "\n",
    "print(\"You are playing a Rock, Paper, Scissors simulation.\")\n",
    "user_choice = input(\"Select R for rock, P for Paper, S for scissors, Q to quit\\n> \")\n",
    "user_choice = user_choice.upper()\n",
    "\n",
    "while user_choice != 'Q':\n",
    "    if user_choice not in valid_input:\n",
    "        print(\"Error: invalid input -- \" + user_choice)\n",
    "        break\n",
    "    \n",
    "    computer_choice = valid_input[randint(0, len(valid_input)-1)]\n",
    "    print(\"Computer chooses \" + computer_choice)\n",
    "\n",
    "    result = rps(user_choice, computer_choice)\n",
    "    if result == 'D':\n",
    "        print(\"Tie Game\")\n",
    "    elif result == 'W':\n",
    "        print(\"You win!\")\n",
    "    else:\n",
    "        print(\"Computer wins!\")\n",
    "    \n",
    "    user_choice = input(\"Select R for rock, P for Paper, S for scissors, Q to quit\\n> \")\n",
    "    user_choice = user_choice.upper()"
   ]
  },
  {
   "cell_type": "markdown",
   "metadata": {},
   "source": [
    "If your code is correct, the asserts below will result in no messages."
   ]
  },
  {
   "cell_type": "code",
   "execution_count": 8,
   "metadata": {
    "nbgrader": {
     "grade": true,
     "grade_id": "Q3C",
     "locked": true,
     "points": 1,
     "solution": false
    }
   },
   "outputs": [],
   "source": [
    "from nose.tools import assert_equal\n",
    "assert_equal(rps('R', 'R'), 'D')\n",
    "assert_equal(rps('R', 'P'), 'L')\n",
    "assert_equal(rps('R', 'S'), 'W')\n",
    "assert_equal(rps('P', 'R'), 'W')\n",
    "assert_equal(rps('P', 'P'), 'D')\n",
    "assert_equal(rps('P', 'S'), 'L')\n",
    "assert_equal(rps('S', 'R'), 'L')\n",
    "assert_equal(rps('S', 'P'), 'W')\n",
    "assert_equal(rps('S', 'S'), 'D')"
   ]
  },
  {
   "cell_type": "markdown",
   "metadata": {},
   "source": [
    "---\n",
    "## 4. List of Tuples"
   ]
  },
  {
   "cell_type": "markdown",
   "metadata": {},
   "source": [
    "Given a list of non-empty tuples, return a list sorted in increasing order by the last element in each tuple. \n",
    "\n",
    "For example: `[(1, 7), (1, 3), (3, 4, 5), (2, 2)]` yields `[(2, 2), (1, 3), (3, 4, 5), (1, 7)]`"
   ]
  },
  {
   "cell_type": "code",
   "execution_count": 14,
   "metadata": {
    "nbgrader": {
     "grade": false,
     "grade_id": "Q4A",
     "locked": false,
     "solution": true
    }
   },
   "outputs": [],
   "source": [
    "def sort_tuple_list(tuple_list):\n",
    "    '''Function to sort a list of non-empty tuples in increasing \n",
    "       order by the last element in each tuple\n",
    "    '''\n",
    "    ### BEGIN SOLUTION\n",
    "    A=[]\n",
    "    for i in tuple_list:\n",
    "        A.append(i[-1])\n",
    "        A.sort()\n",
    "    B=[]\n",
    "    j=0\n",
    "    while len(B)<len(A):\n",
    "        for i in tuple_list:\n",
    "            if j==len(A):\n",
    "                break\n",
    "            if i[-1]==A[j]:\n",
    "                B.append(i)\n",
    "                j+=1\n",
    "    return B\n",
    "    ### END SOLUTION"
   ]
  },
  {
   "cell_type": "code",
   "execution_count": 15,
   "metadata": {
    "nbgrader": {
     "grade": true,
     "grade_id": "Q4B",
     "locked": true,
     "points": 1,
     "solution": false
    }
   },
   "outputs": [],
   "source": [
    "from nose.tools import assert_equal\n",
    "assert_equal(sort_tuple_list([(1, 3), (3, 2), (2, 1)]), [(2, 1), (3, 2), (1, 3)])\n",
    "assert_equal(sort_tuple_list([(2, 3), (1, 1), (3, 2)]), [(1, 1), (3, 2), (2, 3)])\n",
    "assert_equal(sort_tuple_list([(1, 7), (1, 3), (3, 4, 5), (2, 2)]), [(2, 2), (1, 3), (3, 4, 5), (1, 7)])"
   ]
  },
  {
   "cell_type": "markdown",
   "metadata": {},
   "source": [
    "---\n",
    "## 5. Merging Sorted Lists"
   ]
  },
  {
   "cell_type": "markdown",
   "metadata": {},
   "source": [
    "Given two lists sorted in increasing order, create and return a merged list of all the elements in sorted order. You may modify the passed in lists. Ideally, the solution should work in \"linear\" time, making a single pass of both lists."
   ]
  },
  {
   "cell_type": "code",
   "execution_count": 17,
   "metadata": {
    "nbgrader": {
     "grade": false,
     "grade_id": "Q5A",
     "locked": false,
     "solution": true
    }
   },
   "outputs": [],
   "source": [
    "import string\n",
    "\n",
    "def linear_merge(list1, list2):\n",
    "    '''Given two lists sorted in increasing order, create and \n",
    "       return a merged list of all the elements in sorted order\n",
    "    '''\n",
    "    ### BEGIN SOLUTION\n",
    "    order=list(string.ascii_lowercase)\n",
    "    \n",
    "    A=[]\n",
    "    m=0\n",
    "    n=0\n",
    "\n",
    "    for i in order: \n",
    "        while list1[m][0]==i:\n",
    "            A.append(list1[m])\n",
    "            if m<len(list1)-1:\n",
    "                m+=1\n",
    "            else:\n",
    "                break\n",
    "        while list2[n][0]==i:\n",
    "            A.append(list2[n])\n",
    "            if n<len(list2)-1:\n",
    "                n+=1\n",
    "            else:\n",
    "                break\n",
    "    return A\n",
    "        \n",
    "            \n",
    "    ### END SOLUTION"
   ]
  },
  {
   "cell_type": "code",
   "execution_count": 18,
   "metadata": {
    "nbgrader": {
     "grade": true,
     "grade_id": "Q5B",
     "locked": true,
     "points": 1,
     "solution": false
    }
   },
   "outputs": [],
   "source": [
    "from nose.tools import assert_equal\n",
    "assert_equal(linear_merge(['aa', 'xx'], ['bb', 'cc', 'zz']), ['aa', 'bb', 'cc', 'xx', 'zz'])\n",
    "assert_equal(linear_merge(['aa', 'aa'], ['aa', 'bb', 'bb']), ['aa', 'aa', 'aa', 'bb', 'bb'])"
   ]
  },
  {
   "cell_type": "markdown",
   "metadata": {},
   "source": [
    "# 6. Built-in Operator"
   ]
  },
  {
   "cell_type": "markdown",
   "metadata": {},
   "source": [
    "Imagine that Python doesn’t have the `!=` (not equal) operator built in. Write a function that takes two parameters and gives the same result as the `!=` operator. Obviously, you cannot use `!=` within your function! Test if your code works by thinking of examples and making sure the output is the same for your new method as `!=` gives you."
   ]
  },
  {
   "cell_type": "code",
   "execution_count": 35,
   "metadata": {
    "nbgrader": {
     "grade": false,
     "grade_id": "Q6A",
     "locked": false,
     "solution": true
    }
   },
   "outputs": [],
   "source": [
    "def not_equal(val1, val2):\n",
    "    ''' User supplied version of the != operator, \n",
    "        implemeted without using !=\n",
    "    '''\n",
    "    ### BEGIN SOLUTION\n",
    "    if type(val1)==type(val2):\n",
    "        if val1==val2:\n",
    "            return False\n",
    "        else:\n",
    "            return True\n",
    "    else:\n",
    "        return True\n",
    "    ### END SOLUTION"
   ]
  },
  {
   "cell_type": "code",
   "execution_count": 36,
   "metadata": {
    "nbgrader": {
     "grade": true,
     "grade_id": "Q6B",
     "locked": true,
     "points": 1,
     "solution": false
    }
   },
   "outputs": [],
   "source": [
    "from nose.tools import assert_true, assert_false\n",
    "assert_true(not_equal(2,3))\n",
    "assert_false(not_equal(3,3))\n",
    "assert_true(not_equal('3',3))\n",
    "assert_true(not_equal((1,2),[1,2]))\n",
    "assert_false(not_equal((3,4),(3,4)))"
   ]
  },
  {
   "cell_type": "markdown",
   "metadata": {},
   "source": [
    "## 7. Quadratic Formula"
   ]
  },
  {
   "cell_type": "markdown",
   "metadata": {},
   "source": [
    "A quadratic equation is a second order polynomial with three coefficients a, b, and c. It is given by:\n",
    "\n",
    "$$ax^2 + bx + c = 0$$\n",
    "\n",
    "The solutions to the equation are given by the formulas:\n",
    "\n",
    "$$x_1 = \\frac{-b + \\sqrt{b^2 - 4ac}}{2a}$$\n",
    "\n",
    "and\n",
    "\n",
    "$$x_2 = \\frac{-b - \\sqrt{b^2 - 4ac}}{2a}$$\n",
    "\n"
   ]
  },
  {
   "cell_type": "markdown",
   "metadata": {},
   "source": [
    "Write a function that computes the roots of a quadratic equation and returns them as a tuple $(x_1,x_2)$. Your function should take three parameters, a, b, and c. If only one soluction exists, return $(x_1,None)$. If not solution exists or all coefficients are equal zero return $(None,None)$. Note that if\n",
    "\n",
    "$$b^2 - 4ac < 0$$ \n",
    "\n",
    "then the roots will be complex. Hint: remember that Python has a built-in complex data type."
   ]
  },
  {
   "cell_type": "code",
   "execution_count": 73,
   "metadata": {
    "nbgrader": {
     "grade": false,
     "grade_id": "Q7A",
     "locked": false,
     "solution": true
    }
   },
   "outputs": [],
   "source": [
    "import math\n",
    "def roots(a, b, c):\n",
    "    ''' Computes the roots of the quadratic equation with \n",
    "        coefficients a, b, c, and returns them as a tuple (x1, x2)\n",
    "    '''\n",
    "    ### BEGIN SOLUTION\n",
    "    a,b,c=float(a),float(b),float(c)\n",
    "    \n",
    "    if (a==0 and b==0 and c!=0) or a==0 and b==0 and c==0:\n",
    "        return (None,None)\n",
    "    elif a==0:\n",
    "        x1=-c/b\n",
    "        return (x1,None)\n",
    "    \n",
    "    elif (b**2-4*a*c)>=0:\n",
    "        x1=(-b+(b**2-4*a*c)**(1/2))/(2*a)\n",
    "        x2=(-b-(b**2-4*a*c)**(1/2))/(2*a)\n",
    "        if x1==x2:\n",
    "            return (x1,None)\n",
    "        else:\n",
    "            return (x1,x2)\n",
    "    elif b**2-4*a*c<0:\n",
    "        complexroot=complex(0,(4*a*c-b**2)**(1/2))/2*a\n",
    "        return (-b/2*a+complexroot,-b/2*a-complexroot)\n",
    "        \n",
    "    ### END SOLUTION"
   ]
  },
  {
   "cell_type": "code",
   "execution_count": 74,
   "metadata": {
    "nbgrader": {
     "grade": true,
     "grade_id": "Q7B",
     "locked": true,
     "points": 2,
     "solution": false
    }
   },
   "outputs": [],
   "source": [
    "from nose.tools import assert_equal\n",
    "assert_equal(roots(1,2,3), ((-1+1.4142135623730951j), (-1-1.4142135623730951j)))\n",
    "assert_equal(roots(0,0,4), (None, None))\n",
    "assert_equal(roots(0,1,2), (-2, None))\n",
    "assert_equal(roots(-4,3,2), (-0.42539052967910607, 1.175390529679106))"
   ]
  },
  {
   "cell_type": "markdown",
   "metadata": {},
   "source": [
    "## 8. The Game of Nims \n",
    "(extra credit)"
   ]
  },
  {
   "cell_type": "markdown",
   "metadata": {
    "collapsed": true,
    "nbgrader": {
     "grade": false,
     "grade_id": "import_5",
     "locked": false,
     "points": 1,
     "solution": false
    }
   },
   "source": [
    "In this game, two players sit in front of a pile of 100 stones. They take turns, each removing between 1 and 5 stones (assuming there are at least 5 stones left in the pile). The person who removes the last stone(s) wins.\n",
    "\n",
    "In this problem, you’ll write a function to play this game. It may seem tricky, so break it down into parts. Like many programs, we have to use nested loops (one loop inside another). In the outermost loop, we want to keep playing until we are out of stones. Inside that, we want to keep alternating players. You have the option of either writing two blocks of code, or keeping a variable that tracks the current player.\n",
    "\n",
    "We are going to use the `input` function to obtain the user's move. We might want to have an innermost loop that checks if the user’s input is valid. Is it a number? Is it a valid number (e.g. between 1 and 5)? Are there enough stones in the pile to take off this many? If any of these answers are no, we should tell the user and re-ask them the question.\n",
    "\n",
    "If you choose to write two blocks of code, the basic outline of the program should be something like this:\n",
    "\n",
    "    while [pile is not empty]:\n",
    "       while [player 1’s answer is not valid]:\n",
    "          [ask player 1]\n",
    "       [execute player 1’s move]\n",
    "       [same as above for player 2]\n",
    "       \n",
    "Be careful with the validity checks. Specifically, we want to keep asking player 1 for their choice as long as their answer is not valid, BUT we want to make sure we ask them at least ONCE. So, for example, we will want to keep a variable that tracks whether their answer is valid, and set it to `False` initially.\n",
    "\n",
    "There is no need to limit yourself to only one function! Use as many functions as you want in order to make the code more readable and modular.\n",
    "\n",
    "When you're finished, test each other's programs by playing them!"
   ]
  },
  {
   "cell_type": "code",
   "execution_count": 14,
   "metadata": {
    "nbgrader": {
     "grade": true,
     "grade_id": "Q8A",
     "locked": false,
     "points": 4,
     "solution": true
    }
   },
   "outputs": [],
   "source": [
    "\n",
    "def input1(n,x):\n",
    "    while True:\n",
    "        choice1=input('Player1, what is your choice?')\n",
    "        rightinput=[]\n",
    "        for i in range(1,x+1):\n",
    "            rightinput.append(str(i))    \n",
    "        if choice1 in rightinput:\n",
    "            if int(choice1)<=n:\n",
    "                return choice1\n",
    "            else:\n",
    "                print('Invalid choice, do it again please')\n",
    "        else:\n",
    "            print('Invalid choice, do it again please')\n",
    "\n",
    "            \n",
    "def input2(n,x):\n",
    "    while True:\n",
    "        choice2=input('Player2, what is your choice?')\n",
    "        rightinput=[]\n",
    "        for i in range(1,x+1):\n",
    "            rightinput.append(str(i))\n",
    "        if choice2 in rightinput:\n",
    "            if int(choice2) <=n:\n",
    "                return choice2\n",
    "            else:\n",
    "                print('Invalid choice, do it again please')\n",
    "        else:\n",
    "            print('Invalid choice, do it again please')\n",
    "                \n",
    "        \n",
    "def play_nims(total_stone_number,max_number_stone_per_round):\n",
    "    '''\n",
    "    An interactive two-person game; also known as Stones.\n",
    "    pile: the number of stones in the pile to start\n",
    "    max_stones: the maximum number of stones you can \n",
    "    take in one turn\n",
    "    '''\n",
    "    print('Welcome to the stone pile challange, you can remove 1 to 5 stones each time and the player who removes the last two wins.')\n",
    "   \n",
    "    m=total_stone_number\n",
    "    n=max_number_stone_per_round\n",
    "    while True:\n",
    "        if m<=5 and m>=2:\n",
    "            print('There are {} stones left'.format(m))\n",
    "            print('Congradulation! Player1 wins')\n",
    "            break\n",
    "        if m==1:\n",
    "            print('There are {} stones left'.format(m))\n",
    "            print('Tie!')\n",
    "            break\n",
    "        else: \n",
    "            print('There are {} stones left'.format(m))\n",
    "        \n",
    "        choice1=input1(m,n)\n",
    "        \n",
    "        m=m-int(choice1)\n",
    "        \n",
    "        \n",
    "        \n",
    "        if m<=5 and m>=2:\n",
    "            print('There are {} stones left'.format(m))\n",
    "            print('Congradulation! Player2 wins')\n",
    "            break\n",
    "        if m==1:\n",
    "            print('There are {} stones left'.format(m))\n",
    "            print('Tie!')\n",
    "            break\n",
    "        else: \n",
    "            print('There are {} stones left'.format(m))\n",
    "        \n",
    "        choice2=input2(m,n)\n",
    "        \n",
    "        m=m-int(choice2)\n",
    "        \n",
    "        \n",
    "\n",
    "### GRADER INSTRUCTIONS\n",
    "## Verify that their program correctly plays the game by running it. Try various values to ensure they are checking\n",
    "## for valid inputs. \n",
    "## Award 1 mark for basic structure\n",
    "## Award 1 mark if they validate input correctly\n",
    "## Award 1 mark if the program correctly responds to invalid input by reasking\n",
    "## Award 1 mark if they use more than one function\n",
    "### END SOLUTION"
   ]
  },
  {
   "cell_type": "code",
   "execution_count": 15,
   "metadata": {
    "scrolled": true
   },
   "outputs": [
    {
     "name": "stdout",
     "output_type": "stream",
     "text": [
      "Welcome to the stone pile challange, you can remove 1 to 5 stones each time and the player who removes the last two wins.\n",
      "There are 100 stones left\n",
      "Player1, what is your choice?y\n",
      "Invalid choice, do it again please\n",
      "Player1, what is your choice?r\n",
      "Invalid choice, do it again please\n",
      "Player1, what is your choice?6\n",
      "Invalid choice, do it again please\n",
      "Player1, what is your choice?5\n",
      "There are 95 stones left\n",
      "Player2, what is your choice?5\n",
      "There are 90 stones left\n",
      "Player1, what is your choice?5\n",
      "There are 85 stones left\n",
      "Player2, what is your choice?5\n",
      "There are 80 stones left\n",
      "Player1, what is your choice?5\n",
      "There are 75 stones left\n",
      "Player2, what is your choice?5\n",
      "There are 70 stones left\n",
      "Player1, what is your choice?5\n",
      "There are 65 stones left\n",
      "Player2, what is your choice?\n",
      "Invalid choice, do it again please\n",
      "Player2, what is your choice?5\n",
      "There are 60 stones left\n",
      "Player1, what is your choice?5\n",
      "There are 55 stones left\n",
      "Player2, what is your choice?5\n",
      "There are 50 stones left\n",
      "Player1, what is your choice?5\n",
      "There are 45 stones left\n",
      "Player2, what is your choice?5\n",
      "There are 40 stones left\n",
      "Player1, what is your choice?5\n",
      "There are 35 stones left\n",
      "Player2, what is your choice?5\n",
      "There are 30 stones left\n",
      "Player1, what is your choice?5\n",
      "There are 25 stones left\n",
      "Player2, what is your choice?5\n",
      "There are 20 stones left\n",
      "Player1, what is your choice?5\n",
      "There are 15 stones left\n",
      "Player2, what is your choice?5\n",
      "There are 10 stones left\n",
      "Player1, what is your choice?5\n",
      "There are 5 stones left\n",
      "Congradulation! Player2 wins\n"
     ]
    }
   ],
   "source": [
    "play_nims(100,5)"
   ]
  },
  {
   "cell_type": "markdown",
   "metadata": {},
   "source": []
  }
 ],
 "metadata": {
  "anaconda-cloud": {},
  "celltoolbar": "Create Assignment",
  "kernelspec": {
   "display_name": "Python 3",
   "language": "python",
   "name": "python3"
  },
  "language_info": {
   "codemirror_mode": {
    "name": "ipython",
    "version": 3
   },
   "file_extension": ".py",
   "mimetype": "text/x-python",
   "name": "python",
   "nbconvert_exporter": "python",
   "pygments_lexer": "ipython3",
   "version": "3.6.5"
  }
 },
 "nbformat": 4,
 "nbformat_minor": 1
}
