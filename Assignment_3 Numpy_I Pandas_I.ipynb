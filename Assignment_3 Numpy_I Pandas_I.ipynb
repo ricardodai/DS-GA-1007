{
 "cells": [
  {
   "cell_type": "markdown",
   "metadata": {
    "nbgrader": {
     "grade": false,
     "locked": false,
     "solution": false
    },
    "slideshow": {
     "slide_type": "-"
    }
   },
   "source": [
    "# <span style=\"color:blue\">Programming for Data Science - DS-GA 1007</span>\n",
    "## <span style=\"color:blue\">Assignment 3: Numpy and Pandas - Part I</span>"
   ]
  },
  {
   "cell_type": "markdown",
   "metadata": {},
   "source": [
    "### Exercise 1 (1.0 point)\n",
    "Using Numpy, complete the function below. The function should create and return the following 2D array:\n",
    "```\n",
    "[[ 1  6 11 16 21 26]\n",
    " [ 2  7 12 17 22 27]\n",
    " [ 3  8 13 18 23 28]\n",
    " [ 4  9 14 19 24 29]\n",
    " [ 5 10 15 20 25 30]]\n",
    "```\n",
    "You must find a way to generate the array without typing it explicitly."
   ]
  },
  {
   "cell_type": "code",
   "execution_count": 1,
   "metadata": {
    "nbgrader": {
     "grade": false,
     "grade_id": "Q1A",
     "locked": false,
     "solution": true
    }
   },
   "outputs": [],
   "source": [
    "import numpy as np\n",
    "\n",
    "def create_array():\n",
    "    ### BEGIN SOLUTION\n",
    "    x=np.linspace(1,30,30,dtype=int)\n",
    "    y=x.reshape(6,5)\n",
    "    result=y.transpose()\n",
    "    ### END SOLUTION\n",
    "    return result"
   ]
  },
  {
   "cell_type": "code",
   "execution_count": 2,
   "metadata": {},
   "outputs": [
    {
     "data": {
      "text/plain": [
       "array([[ 1,  6, 11, 16, 21, 26],\n",
       "       [ 2,  7, 12, 17, 22, 27],\n",
       "       [ 3,  8, 13, 18, 23, 28],\n",
       "       [ 4,  9, 14, 19, 24, 29],\n",
       "       [ 5, 10, 15, 20, 25, 30]])"
      ]
     },
     "execution_count": 2,
     "metadata": {},
     "output_type": "execute_result"
    }
   ],
   "source": [
    "create_array()"
   ]
  },
  {
   "cell_type": "code",
   "execution_count": 3,
   "metadata": {
    "nbgrader": {
     "grade": true,
     "grade_id": "Q1B",
     "locked": true,
     "points": 1,
     "solution": false
    }
   },
   "outputs": [],
   "source": [
    "# if your code works properly, the assert below should not raise a message\n",
    "from numpy.testing import assert_array_equal\n",
    "assert_array_equal(create_array(), np.array([[ 1, 6, 11, 16, 21, 26],\n",
    "                                             [ 2, 7, 12, 17, 22, 27],\n",
    "                                             [ 3, 8, 13, 18, 23, 28],\n",
    "                                             [ 4, 9, 14, 19, 24, 29],\n",
    "                                             [ 5, 10, 15, 20, 25, 30]]))"
   ]
  },
  {
   "cell_type": "markdown",
   "metadata": {},
   "source": [
    "### Exercise 2 (1.0 point)\n",
    "The function below should return an array containing the second and fourth rows from the input array _original_. The argument (input array) must be a 2D array. If the argument is not a 2D array or does not have the required number of rows, return `None`."
   ]
  },
  {
   "cell_type": "code",
   "execution_count": 4,
   "metadata": {
    "nbgrader": {
     "grade": false,
     "grade_id": "Q2A",
     "locked": false,
     "solution": true
    }
   },
   "outputs": [],
   "source": [
    "import numpy as np\n",
    "\n",
    "def new_array_second_and_fourth(original):\n",
    "    ### BEGIN SOLUTION \n",
    "    if str(type(original))== \"<class 'numpy.ndarray'>\":\n",
    "        shape=original.shape\n",
    "    \n",
    "        if len(shape)!=2 or shape[0]<4:\n",
    "            return None\n",
    "        else: \n",
    "            return original[[1,3],:]\n",
    "    else:\n",
    "        return None\n",
    "        \n",
    "    ### END SOLUTION\n",
    "    return(result)"
   ]
  },
  {
   "cell_type": "code",
   "execution_count": 5,
   "metadata": {
    "nbgrader": {
     "grade": true,
     "grade_id": "Q2B",
     "locked": true,
     "points": 1,
     "solution": false
    }
   },
   "outputs": [],
   "source": [
    "# if your code works properly, the asserts below should not raise a message\n",
    "from numpy.testing import assert_array_equal\n",
    "assert_array_equal(new_array_second_and_fourth([1,2,3]), None)\n",
    "assert_array_equal(new_array_second_and_fourth(create_array()), \n",
    "                   np.array([[ 2, 7, 12, 17, 22, 27],[ 4, 9, 14, 19, 24, 29]]))\n",
    "assert_array_equal(new_array_second_and_fourth(np.array([1,2,3])), None)\n",
    "assert_array_equal(new_array_second_and_fourth(np.array([[1,2,3],[4,5,6]])), None)"
   ]
  },
  {
   "cell_type": "markdown",
   "metadata": {},
   "source": [
    "### Exercise 3 (1.0 point) \n",
    "Numpy provides a method called `where`, which allows to find elements in an array that satisfies a conditional statement. Using the method `where`, complete the function below such that it returns an array with the elements from the input array _original_ that are multiple of three. Return `None` if there is no multiple of three. The returned array must be sorted in ascending order. The input must be a Numpy array. If the argument is invalid, return `None`.\n"
   ]
  },
  {
   "cell_type": "code",
   "execution_count": 6,
   "metadata": {
    "nbgrader": {
     "grade": false,
     "grade_id": "Q4A",
     "locked": false,
     "solution": true
    }
   },
   "outputs": [],
   "source": [
    "import numpy as np\n",
    "\n",
    "def multi_three(original):\n",
    "    ### BEGIN SOLUTION\n",
    "    if str(type(original))== \"<class 'numpy.ndarray'>\":\n",
    "        result=original[np.where(original%3==0)]\n",
    "        result.sort()\n",
    "        if result.shape==(0,):\n",
    "            return None\n",
    "    else:\n",
    "        return None\n",
    "    ### END SOLUTION\n",
    "    return(result)"
   ]
  },
  {
   "cell_type": "code",
   "execution_count": 7,
   "metadata": {
    "nbgrader": {
     "grade": true,
     "grade_id": "Q4B",
     "locked": true,
     "points": 1,
     "solution": false
    }
   },
   "outputs": [],
   "source": [
    "# if your code works properly, the asserts below should not raise a message\n",
    "from numpy.testing import assert_array_equal\n",
    "assert_array_equal(multi_three(create_array()), \n",
    "                   np.array([3,6,9,12,15,18,21,24,27,30]))\n",
    "assert_array_equal(multi_three(np.array([[1,2,15],[1,2,3]])),np.array([3,15]))\n",
    "assert_array_equal(multi_three(np.array([[3,7,9,2,2,15]])), np.array([3,9,15]))\n",
    "assert_array_equal(multi_three(np.array([[1,7,1,2,2,2]])), None)\n",
    "assert_array_equal(multi_three([1,7,1,2,2,2]), None)"
   ]
  },
  {
   "cell_type": "markdown",
   "metadata": {},
   "source": [
    "### Exercise 4 (1.0 point) \n",
    "Numpy provides a method called `logical_and`. Using `logical_and` complete the function below such that it returns an array with the elements from the input array that are in the interval between 3 and 11, inclusive. The returned array must be sorted in descending order. If there is no element in the sought interval the function should return `None`. The argument must be a Numpy array. If the argument is invalid, return `None`."
   ]
  },
  {
   "cell_type": "code",
   "execution_count": 8,
   "metadata": {
    "nbgrader": {
     "grade": false,
     "grade_id": "Q5A",
     "locked": false,
     "solution": true
    }
   },
   "outputs": [],
   "source": [
    "import numpy as np\n",
    "\n",
    "def get_interval_descending(original):\n",
    "    ### BEGIN SOLUTION\n",
    "    x=original\n",
    "    result=x[np.logical_and(x>=3,x<=11)]\n",
    "    result.sort()\n",
    "    result=result[::-1]\n",
    "    ### END SOLUTION\n",
    "    return(result)"
   ]
  },
  {
   "cell_type": "code",
   "execution_count": 9,
   "metadata": {
    "nbgrader": {
     "grade": true,
     "grade_id": "Q5B",
     "locked": true,
     "points": 1,
     "solution": false
    }
   },
   "outputs": [],
   "source": [
    "# if your code works properly, the asserts below should not raise a message\n",
    "from numpy.testing import assert_array_equal\n",
    "assert_array_equal(get_interval_descending(create_array()), np.array([11, 10,  9,  8,  7,  6,  5,  4,  3]))\n",
    "assert_array_equal(get_interval_descending(np.array([1, 2, 12, 13])), None)\n",
    "assert_array_equal(get_interval_descending(np.array([[1, 2],[11, 13]])), np.array([11]))"
   ]
  },
  {
   "cell_type": "markdown",
   "metadata": {},
   "source": [
    "### Exercise 5 (2.0 point) \n",
    "The `random_selection` function below should return an 1D array containing the values from each row of the input array _original_ that are closer to the number $1$. \n",
    "\n",
    "Hint: Use the numpy method `argsort`.\n",
    "\n",
    "__PS.__ Refrain from using `for` and `while` loops."
   ]
  },
  {
   "cell_type": "code",
   "execution_count": 10,
   "metadata": {
    "nbgrader": {
     "grade": false,
     "grade_id": "Q7A",
     "locked": false,
     "solution": true
    }
   },
   "outputs": [],
   "source": [
    "import numpy as np\n",
    "\n",
    "def random_selection(original):\n",
    "    ### BEGIN SOLUTION\n",
    "    B=abs(original-1)\n",
    "    D=B.argsort()[:,0]\n",
    "    C=original.shape[0]\n",
    "    E=list(range(C))\n",
    "    result=original[E,D]\n",
    "    ### END SOLUTION\n",
    "    return(result)"
   ]
  },
  {
   "cell_type": "code",
   "execution_count": 12,
   "metadata": {
    "nbgrader": {
     "grade": true,
     "grade_id": "Q7B",
     "locked": true,
     "points": 4,
     "solution": false
    }
   },
   "outputs": [],
   "source": [
    "# if your code works properly, the asserts below should not raise a message\n",
    "from numpy.testing import assert_array_equal\n",
    "v = np.array([[  0,  -7,  -4],\n",
    "              [-10,   5,  -1],\n",
    "              [  6,   3,  -4],\n",
    "              [  4,   6,   2],\n",
    "              [ -8,  -4,   6]])\n",
    "assert_array_equal(random_selection(v), np.array([0, -1,  3,  2, -4]))\n",
    "assert_array_equal(random_selection(np.array([[-1,0,1],[2.5,0,3]])), np.array([1,0]))"
   ]
  },
  {
   "cell_type": "markdown",
   "metadata": {},
   "source": [
    "### Exercise 6 (2.0 point) \n",
    "Consider the DataFrame `DF` as built in the code below. Using `pandas`, write a function that recieves as input the given DataFrame and return a new DataFrame containing only the rows from coluns $1$ and $3$ whose value in column 'Animal' is _Dino_.\n",
    "\n",
    "For instance, if this is the input dataframe:\n",
    "```\n",
    "     0\t1\t2\t3\t4\tAnimal\n",
    "-------------------------------\n",
    "0\t8\t4\t8\t7\t8\tPtero\n",
    "1\t4\t2\t7\t8\t7\tPtero\n",
    "2\t9\t9\t3\t4\t4\tDino\n",
    "3\t5\t4\t3\t2\t6\tPtero\n",
    "4\t6\t8\t9\t6\t7\tDino\n",
    "5\t3\t2\t9\t7\t3\tPtero\n",
    "6\t9\t2\t2\t5\t7\tPtero\n",
    "7\t1\t2\t9\t2\t8\tCroco\n",
    "8\t4\t1\t0\t3\t7\tCroco\n",
    "9\t0\t8\t2\t9\t4\t\n",
    "```\n",
    "the function should return:\n",
    "````\n",
    "     1\t3\tAnimal\n",
    "-------------------\n",
    "2\t9\t4\tDino\n",
    "4\t8\t6\tDino\n",
    "```"
   ]
  },
  {
   "cell_type": "code",
   "execution_count": 17,
   "metadata": {},
   "outputs": [],
   "source": [
    "import pandas as pd\n",
    "import numpy as np\n",
    "\n",
    "def select_Dino(df_input):\n",
    "    ### BEGIN SOLUTION\n",
    "    x=df_input[df_input[\"Animal\"]=='Dino']\n",
    "    result=x.iloc[:,[1,3]]\n",
    "    ### END SOLUTION\n",
    "    return(result)"
   ]
  },
  {
   "cell_type": "code",
   "execution_count": 18,
   "metadata": {},
   "outputs": [],
   "source": [
    "# if your code works properly, the asserts below should not raise a message\n",
    "from numpy.testing import assert_array_equal\n",
    "\n",
    "M = np.random.randint(low=0,high=10,size=((10,5)))\n",
    "DF = pd.DataFrame(data=M)\n",
    "animal_names = ['Croco','Dino','Anacon','Ptero']\n",
    "animals = np.random.choice(animal_names, 10, p=[0.3, 0.2, 0.2, 0.3])\n",
    "\n",
    "DF['Animal'] = animals\n",
    "\n",
    "dinos_ids = np.where(animals == 'Dino')\n",
    "assert_array_equal(select_Dino(DF)[[1,3]].as_matrix(), M[dinos_ids][:,[1,3]])"
   ]
  },
  {
   "cell_type": "markdown",
   "metadata": {},
   "source": [
    "### Exercise 7 (2.0 point) \n",
    "The `Pandas` module provides a method called `concat` that can be applied to concatenate two Pandas series. Using the method `concat`, complete the function below such that it receives two series S1 and S2 as input and returns a new series containing the most frequent value from S1 and S2 repeated as many times as in S1 and S2. The index of the returned series should match the indices where the frequent values apear in S1 and S2.\n",
    "\n",
    "For instance, given the series:\n",
    "```\n",
    "  S1         S2\n",
    "------     ------\n",
    "0    1     0    7\n",
    "1    6     1    9\n",
    "2    6     2    2\n",
    "3    8     3    1\n",
    "4    2     4    9\n",
    "5    6     5    0\n",
    "6    6     6    8\n",
    "```\n",
    "the function should return:\n",
    "```\n",
    "result\n",
    "------\n",
    "1    6\n",
    "2    6\n",
    "5    6\n",
    "6    6\n",
    "1    9\n",
    "4    9\n",
    "```"
   ]
  },
  {
   "cell_type": "code",
   "execution_count": 15,
   "metadata": {},
   "outputs": [],
   "source": [
    "import pandas as pd\n",
    "import numpy as n\n",
    "\n",
    "def concat_frequents(s1,s2):\n",
    "    ### BEGIN SOLUTION\n",
    "    mode1=s1.mode()\n",
    "    mode2=s2.mode()\n",
    "    result=pd.concat([s1[s1==int(mode1)],s2[s2==int(mode2)]])\n",
    "    ### END SOLUTION\n",
    "    return(result)"
   ]
  },
  {
   "cell_type": "code",
   "execution_count": 16,
   "metadata": {},
   "outputs": [],
   "source": [
    "# if your code works properly, the asserts below should not raise a message\n",
    "from numpy.testing import assert_array_equal\n",
    "\n",
    "s1 = pd.Series([1,6,6,8,2,6,6])\n",
    "s2 = pd.Series([7,9,2,1,9,0,8])\n",
    "\n",
    "s = concat_frequents(s1,s2)\n",
    "\n",
    "assert_array_equal(list(s.values),[6, 6, 6, 6, 9, 9])\n",
    "assert_array_equal(list(s.index),[1, 2, 5, 6, 1, 4])"
   ]
  }
 ],
 "metadata": {
  "anaconda-cloud": {},
  "celltoolbar": "Create Assignment",
  "kernelspec": {
   "display_name": "Python 3",
   "language": "python",
   "name": "python3"
  },
  "language_info": {
   "codemirror_mode": {
    "name": "ipython",
    "version": 3
   },
   "file_extension": ".py",
   "mimetype": "text/x-python",
   "name": "python",
   "nbconvert_exporter": "python",
   "pygments_lexer": "ipython3",
   "version": "3.6.5"
  }
 },
 "nbformat": 4,
 "nbformat_minor": 1
}
