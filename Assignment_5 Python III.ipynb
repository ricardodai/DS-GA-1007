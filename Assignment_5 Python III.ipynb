{
 "cells": [
  {
   "cell_type": "markdown",
   "metadata": {},
   "source": [
    "# <span style=\"color:blue\">Programming for Data Science - DS-GA 1007</span>\n",
    "## <span style=\"color:blue\">Assignment 5: Python III - Comprehension, File I/O, Unit Tests</span>"
   ]
  },
  {
   "cell_type": "markdown",
   "metadata": {},
   "source": [
    "### __Question 1:__ (1.0 point) \n",
    "- Write a python code that creates a list called _listN_ with the numbers 0,1,2,3,4,5,6,7,8,9. \n",
    "- Make a copy of the content of _listN_ to a new list called _listM_ and append the numbers 10,11,12,13 to the end of _listM_. \n",
    "- Creat another variable called _listO_ that is a reference to _listM_ and remove the number 4 from _listO_.\n",
    "- Print the content of the three lists and explain what you are observing."
   ]
  },
  {
   "cell_type": "code",
   "execution_count": 7,
   "metadata": {},
   "outputs": [
    {
     "name": "stdout",
     "output_type": "stream",
     "text": [
      "[0, 1, 2, 3, 4, 5, 6, 7, 8, 9]\n",
      "[0, 1, 2, 3, 5, 6, 7, 8, 9, 10, 11, 12, 13]\n",
      "[0, 1, 2, 3, 5, 6, 7, 8, 9, 10, 11, 12, 13]\n"
     ]
    }
   ],
   "source": [
    "# Begin Solution\n",
    "listN=list(range(10))\n",
    "listM=listN.copy()\n",
    "listM.extend([10,11,12,13])\n",
    "listO=listM\n",
    "listO.remove(4)\n",
    "print(listN)\n",
    "print(listM)\n",
    "print(listO)\n",
    "# End Solution"
   ]
  },
  {
   "cell_type": "markdown",
   "metadata": {},
   "source": [
    "Explanation: The listN does not change since listM just copys it and extends itself. The 4 in listM is removed because that listO is a reference to listM and the operation on listO also affects the listM. So listO and listM refer to the same thing and print out same thing certainly."
   ]
  },
  {
   "cell_type": "markdown",
   "metadata": {},
   "source": [
    "### Question 2: (3.0 points) \n",
    "Each line of the file \"careerXskills.txt\" (available in NYU Classes) contains a pair  _career_ and _skill_. A particular career can be associated to several different skills. For instances, a 'computer_scientist' can have the skills 'programming', 'math', 'statistic', 'data_base'. Therefore, a single career can show up multiple times in the file \"careerXskills.txt\", each associate to a particular skill.\n",
    "\n",
    "- Build a dictionary from the file \"careerXskills.txt\", using the career name as the _keys_. The _value_ associated to each key should be the list of corresponding career skills. In other words, each _key_ has a list associate to it.\n",
    "- The list of skills associated to a key should not have duplicate entries, that is, a particular skill should not appear multiple times in the list of skills associated to a key.\n",
    "- Your code should print the list of careers and associate skills in the following format:\n",
    "\n",
    "```shell\n",
    "-> computer_scientist: \n",
    "   programming, math, statistic, data_base\n",
    "\n",
    "-> engineer: \n",
    "   math, design, structural_calculus\n",
    "```"
   ]
  },
  {
   "cell_type": "code",
   "execution_count": 245,
   "metadata": {},
   "outputs": [
    {
     "name": "stdout",
     "output_type": "stream",
     "text": [
      "Accountant:\n",
      "teamworking, innovative_thinking, business_acumen, project_management, technologial_knowledge, IT, manage_deadlines, numeracy\n",
      "\n"
     ]
    }
   ],
   "source": [
    "# Begin Solution\n",
    "import pandas as pd\n",
    "df=pd.read_csv('/Users/yuqidai/Downloads/careerXskills.txt',delimiter=' ',names=['Career','Skill'])\n",
    "\n",
    "career=df.Career.values.tolist()\n",
    "skill=df.Skill.values.tolist()\n",
    "result={}\n",
    "i=0\n",
    "while i  < len(career):\n",
    "    if career[i] not in list(result.keys()):\n",
    "        result[career[i]]=[skill[i]]\n",
    "    elif career[i] in list(result.keys()):\n",
    "        if skill[i] not in list(result[career[i]]):\n",
    "            result[career[i]].append(skill[i])\n",
    "    i+=1\n",
    "      \n",
    "    \n",
    "def skill_for_career(x):\n",
    "    print(x+':')\n",
    "    B=''\n",
    "    for i in (result[x]):\n",
    "        B=B+i+', '\n",
    "    print(B[:-2]+'\\n')\n",
    "\n",
    "skill_for_career('Accountant')  "
   ]
  },
  {
   "cell_type": "code",
   "execution_count": 246,
   "metadata": {},
   "outputs": [
    {
     "name": "stdout",
     "output_type": "stream",
     "text": [
      "Medical_physicist:\n",
      "physical_fitness, work_under_pressure, resilience, communication, intuitive_reasoning, teamworking\n",
      "\n",
      "Computer_scientist:\n",
      "project_management, accurate_communication, math, innovative_thinking, statistic, programming, technologial_knowledge, resilience\n",
      "\n",
      "Aeronautical_engineer:\n",
      "accurate_communication, project_management, statistic, innovative_thinking, technologial_knowledge, programming, math\n",
      "\n",
      "Accountant:\n",
      "teamworking, innovative_thinking, business_acumen, project_management, technologial_knowledge, IT, manage_deadlines, numeracy\n",
      "\n",
      "Sports_coach:\n",
      "resilience, accurate_communication, statistic, teamworking, programming, communication, intuitive_reasoning, numeracy, project_management, technologial_knowledge\n",
      "\n"
     ]
    }
   ],
   "source": [
    "for i in range(len(result)):\n",
    "    print(list(result.keys())[i]+':')\n",
    "    A=''\n",
    "    for i in (result[list(result.keys())[i]]):\n",
    "        A=A+i+', '\n",
    "    print(A[:-2]+'\\n')\n",
    "    \n",
    "# End Solution`"
   ]
  },
  {
   "cell_type": "markdown",
   "metadata": {},
   "source": [
    "### Question 3: (0.5 points) \n",
    "Write a function called <font color='blue'> format_person_info</font> that receives two mandatory parameters <font color='blue'>name</font> and <font color='blue'>age</font> and returns a string containing the first and last name (disregarding middle names) followed by the phrase \"is <font color='blue'>age</font> years old\". For instance, \n",
    "\n",
    "```python\n",
    "print(format_person_info('Luis Gustavo Nonato',48))\n",
    "```\n",
    "should result in:\n",
    "\n",
    "Luis Nonato is 48 years old\n",
    "\n",
    "A third, optional parameter, can also be provided, which specify the job position. For instance,  \n",
    "\n",
    "```python\n",
    "print(format_person_info('Luis Gustavo Nonato',48,'Data Scientist'))\n",
    "```\n",
    "should result in:\n",
    "\n",
    "Luis Nonato, Data Scientist, is 48 years old\n",
    " "
   ]
  },
  {
   "cell_type": "code",
   "execution_count": 78,
   "metadata": {},
   "outputs": [
    {
     "name": "stdout",
     "output_type": "stream",
     "text": [
      "Writing changeformat.py\n"
     ]
    }
   ],
   "source": [
    "%%writefile changeformat.py\n",
    "__all__=['format_person_info']\n",
    "def format_person_info(name,age,job=''):\n",
    "# Begin Solution\n",
    "    if job=='':\n",
    "        return(str(name.split()[0]+' '+name.split()[-1])+' is '+str(age)+' years old')\n",
    "    else: \n",
    "        return(str(name.split()[0]+' '+name.split()[-1])+', '+str(job)+', is '+str(age)+' years old')\n",
    "\n",
    "# End Solution"
   ]
  },
  {
   "cell_type": "code",
   "execution_count": 41,
   "metadata": {},
   "outputs": [
    {
     "name": "stdout",
     "output_type": "stream",
     "text": [
      "Luis Nonato, Data Scientist, is 48 years old\n"
     ]
    }
   ],
   "source": [
    "print(format_person_info('Luis Gustavo Nonato',48,'Data Scientist'))"
   ]
  },
  {
   "cell_type": "markdown",
   "metadata": {},
   "source": [
    "### Question 4: (2.5 points) \n",
    "Write a unit test for the function <font color='blue'> format_person_info</font> you implemented in question 3. Your unit test should assert the function correctness when two or three parameters are provided."
   ]
  },
  {
   "cell_type": "code",
   "execution_count": 85,
   "metadata": {},
   "outputs": [
    {
     "name": "stderr",
     "output_type": "stream",
     "text": [
      "test_2_parameters (__main__.FormatTest) ... ok\n",
      "test_3_parameters (__main__.FormatTest) ... ok\n",
      "\n",
      "----------------------------------------------------------------------\n",
      "Ran 2 tests in 0.002s\n",
      "\n",
      "OK\n"
     ]
    }
   ],
   "source": [
    "import unittest\n",
    "import changeformat as cf\n",
    "# Begin Solution\n",
    "class FormatTest(unittest.TestCase):\n",
    "    def test_2_parameters(self):\n",
    "        result=cf.format_person_info('Luis Gustavo Nonato',48)\n",
    "        self.assertEqual(result, 'Luis Nonato is 48 years old')\n",
    "    def test_3_parameters(self):\n",
    "        result=cf.format_person_info('Luis Gustavo Nonato',48,'Data Scientist')\n",
    "        self.assertEqual(result, 'Luis Nonato, Data Scientist, is 48 years old')\n",
    "if __name__ == '__main__':\n",
    "    unittest.main(argv=['ignored','-v'],exit=False)\n",
    "# End Solution\n"
   ]
  },
  {
   "cell_type": "markdown",
   "metadata": {},
   "source": [
    "### Question 5: (1.5 points) \n",
    "Write a python code the does exactly the same as \n",
    "\n",
    "```python\n",
    "import random\n",
    "print([x for x in list(map(lambda i: random.randint(-i,i),10*[10])) if x>0])\n",
    "```\n",
    "without using comprehension."
   ]
  },
  {
   "cell_type": "code",
   "execution_count": 6,
   "metadata": {},
   "outputs": [
    {
     "name": "stdout",
     "output_type": "stream",
     "text": [
      "[8, 10]\n"
     ]
    }
   ],
   "source": [
    "import random\n",
    "\n",
    "# Begin Solution\n",
    "def ran(a):\n",
    "    return (random.randint(-a,a))\n",
    "A=[]\n",
    "for i in 10*[10]:\n",
    "    A.append(ran(i))\n",
    "result=[]\n",
    "for i in A:\n",
    "    if i>0:\n",
    "        result.append(i)\n",
    "print(result)\n",
    "    \n",
    "# End Solution"
   ]
  },
  {
   "cell_type": "markdown",
   "metadata": {},
   "source": [
    "### Question 6: (1.5 points) \n",
    "The code below removes the vowels 'a', 'e', and 'i' from a string.\n",
    "Use _compehension_ and _lambda_ function to rewrite the code below. Your answer should have only one line of python code.\n",
    "\n",
    "```python\n",
    "def remove_aei(s):\n",
    "    l = []\n",
    "    for i in s:\n",
    "        if i not in 'aei':\n",
    "            l.append(i)\n",
    "    return(''.join(l))\n",
    "```\n",
    "PS. You can use the `join` command to facilitate de solution."
   ]
  },
  {
   "cell_type": "code",
   "execution_count": 74,
   "metadata": {},
   "outputs": [],
   "source": [
    "def remove_aea(s):\n",
    "# begin solution\n",
    "    return(''.join(list(filter(lambda X: X not in 'aei',s))))\n",
    "# end solution"
   ]
  },
  {
   "cell_type": "code",
   "execution_count": 75,
   "metadata": {},
   "outputs": [],
   "source": [
    "def remove_aei(s):\n",
    "    l = []\n",
    "    for i in s:\n",
    "        if i not in 'aei':\n",
    "            l.append(i)\n",
    "    return(''.join(l))"
   ]
  }
 ],
 "metadata": {
  "kernelspec": {
   "display_name": "Python 3",
   "language": "python",
   "name": "python3"
  },
  "language_info": {
   "codemirror_mode": {
    "name": "ipython",
    "version": 3
   },
   "file_extension": ".py",
   "mimetype": "text/x-python",
   "name": "python",
   "nbconvert_exporter": "python",
   "pygments_lexer": "ipython3",
   "version": "3.6.5"
  }
 },
 "nbformat": 4,
 "nbformat_minor": 2
}
